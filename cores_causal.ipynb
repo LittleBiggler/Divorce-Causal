{
 "cells": [
  {
   "cell_type": "markdown",
   "id": "6a0a082c-b052-42be-a0a4-3a73d0d3389f",
   "metadata": {},
   "source": [
    "# Imports"
   ]
  },
  {
   "cell_type": "code",
   "execution_count": 1,
   "id": "eb87136e-d404-4575-8082-d6120d8157b0",
   "metadata": {},
   "outputs": [],
   "source": [
    "import pandas as pd\n",
    "import numpy as np\n",
    "import matplotlib.pyplot as plt\n",
    "import seaborn as sns\n",
    "\n",
    "from sklearn.linear_model import LinearRegression\n",
    "\n",
    "# formula api vs. array-based\n",
    "import statsmodels.formula.api as smf\n",
    "\n",
    "# panel OLS for sanity check\n",
    "from linearmodels.panel import PanelOLS\n",
    "\n",
    "# contrasts for sanity check\n",
    "from patsy.contrasts import Treatment\n",
    "\n",
    "import warnings"
   ]
  },
  {
   "cell_type": "markdown",
   "id": "e0d19210-7516-42c8-aa39-4de75ef1cb98",
   "metadata": {},
   "source": [
    "# Project Summary\n",
    "\n",
    "In this project, I investigate whether liberalizing divorce law causally affects a country’s income inequality, measured by the Gini index. This is a broad causal question that requires explicit assumptions.\n",
    "\n",
    "The data are observational. Countries adopt reforms at different calendar years, so there is no single “treatment time.” Two natural designs for this type of data are:\n",
    "\n",
    "1. Country-by-country 2×2 DiD (each country as its own two-period, two-group comparison)\n",
    "2. Staggered adoption designs (multiple units and periods with different adoption years)\n",
    "\n",
    "The per-country 2×2 design is not feasible here, as treatment status and outcomes are national aggregates, which means that a country cannot serve as its own control. Propensity-matched external controls or synthetic controls could be used, but my goal is to identify global (and regional) patterns rather than within-country effects. I therefore focus on staggered DiD.\n",
    "\n",
    "I follow the design guidance in Baker, Callaway, Cunningham, Goodman-Bacon, and Sant’Anna (2025), Difference-in-Differences Designs: A Practitioner’s Guide (arXiv:2503.13323). https://arxiv.org/pdf/2503.13323\n",
    "\n",
    "I implement two staggered strategies:\n",
    "\n",
    "**I. Cohort Approach**\n",
    "\n",
    "I group countries into per-decade cohorts, according to the decade in which divorce law reform occurred. Each cohort’s “event time” is anchored at the cohort’s modal adoption year, and I estimate a TWFE regression within each cohort.\n",
    "\n",
    "Unfortunately, binning countries into cohorts leads to data contamination, both in controls and treated groups. \n",
    "\n",
    "Controls may include already-treated countries (if a country’s true reform was before the cohort modal year), and treated-post may include not-yet-treated countries (if a country’s true reform was after the cohort mode). Given that legal and social changes evolve gradually, limited within-decade contamination may be acceptable, but is less than ideal.\n",
    "\n",
    "**II. Event-Study Approach**\n",
    "\n",
    "Rather than focus on calendar years, I evaluate pre and post groups in terms of relative time-distance from the treatment year. This avoids contamination because no treated-post-treatment country is ever included in controls, and no untreated country is ever included in treated-post-treatment. \n",
    "\n",
    "While avoiding contamination, the event study approach over long time periods strains credulity. In other words, taking an event study approach requires that I superimpose 1975 onto 1995, as if there were no salient differences between those two time periods. H\n",
    "\n",
    "owever, if countries tend to change drastically, some time after treatment, this would surely be identified in an event study. One nuanced approach might be to conduct an event study for each decade cohort, which may be the next step I take in this project.\n",
    "\n",
    "A practical compromise is to run event studies within decade cohorts, which I plan as a next step.\n",
    "\n",
    "**Inference**\n",
    "\n",
    "I use frequentist inference (t-tests from statsmodels) and plan to explore Bayes-factor sensitivity as future work.\n",
    "\n",
    "**Treatment Coding**\n",
    "\n",
    "Divorce regimes vary in restrictiveness:\n",
    "\n",
    "1. Illegal\n",
    "2. Fault-based only (no “irreconcilable differences”)\n",
    "3. No-fault (lite/mutual): breakdown recognized but may require proof, separation periods, or mutual consent\n",
    "4. No-fault (unilateral): one party’s assertion suffices\n",
    "\n",
    "For analysis, I collapse the above four categories into two groups:\n",
    "\n",
    "Group I (\"never treated\"): No recognition of “irretrievable breakdown/irreconcilable differences,” or procedures that are substantively one-sided/unfair\n",
    "\n",
    "Group II (treated or not-yet-treated): No-fault permitted (including recognition of irretrievable breakdown/irreconcilable differences)\n",
    "\n",
    "**Core Assumptions**\n",
    "\n",
    "I consider standard parallel-trends formulations:\n",
    "\n",
    "**PT–GT–All**: Parallel trends across all groups and periods (used in the baseline for this study)\n",
    "- I chose to assume PT-GT-All, given my global aspirations\n",
    "\n",
    "**PT–GT–Never**: Parallel trends relative to never-treated groups\n",
    "- Never-treated countries are in fact very different from countries that are treated, in ways that would affect outcomes. Thus, this PT assumption is not viable for my data.\n",
    "\n",
    "**PT–GT–NYT**: Parallel trends relative to not-yet-treated groups\n",
    "- Similar to the PT-GT-Never, countries that are treated at all are in fact very different from countries that are never treated, thus adopting the NYT would introduce the opposite type of bias."
   ]
  },
  {
   "cell_type": "markdown",
   "id": "537e8723-7ca7-4130-8548-9d78214baaf1",
   "metadata": {},
   "source": [
    "# Background: Data and Dependencies\n",
    "\n",
    "This study complements my parallel project, CoResidence Analysis (repo: https://github.com/LittleBiggler/CoResidence)\n",
    "\n",
    "Exploratory visuals from that work show several features with inflection points in the 1970s–1980s and broad shifts toward households that are (1) older and (2) more often female-headed. During this period, the share of female-headed households rose, average number of children per household fell, and household age increased. If household configuration relates to inequality, *something important* appears to change in the 1970s–1980s.\n",
    "\n",
    "When I consider shocks that plausibly reshape household structure—illness, job loss, and divorce—divorce stands out as both substantively meaningful, and empirically tractable: adoption years are relatively easy to document across countries. Beyond data availability, a society’s willingness to liberalize divorce is signal-rich, reflecting deep shifts in norms and interpersonal arrangements.\n",
    "\n",
    "Because I analyze countries globally, my hope is that cross-country heterogeneity helps “average out” idiosyncratic parallel trends, sharpening identification on divorce law as a potential causal catalyst rather than on unrelated confounders.\n",
    "\n",
    "**Gini Handling** \n",
    "\n",
    "Where annual values were missing, I imputed the Gini series. Prior to imputation, I inverted its scale for interpretability (higher = more equality), consistent with the approach in CoResidence. See that project’s “Target Imputation” section for details. (Substantive conclusions are always conditional on the imputation strategy.)\n",
    "\n",
    "**Divorce Data**\n",
    "\n",
    "I compiled no-fault divorce adoption years primarily via targeted Google searches, following links to government sources or (frequently) law-firm explainers aimed at prospective clients. I did not rely on AI overviews. For a fully rigorous legal history, collaboration with legal scholars would be appropriate; for this exploratory study, curated web sources were sufficient. I cross-referenced my findings with an amateur compilation from World Population Review (cited below)."
   ]
  },
  {
   "cell_type": "markdown",
   "id": "f262e947-0bf5-4fc5-92d2-ffe587806e67",
   "metadata": {},
   "source": [
    "Citations\n",
    "\n",
    "Baker, Callaway, Cunningham, Goodman-Bacon, and Sant’Anna (2025), Difference-in-Differences Designs: A Practitioner’s Guide (arXiv:2503.13323). https://arxiv.org/pdf/2503.13323\n",
    "\n",
    "Countries Where Divorce Is Illegal 2025. World Population Review. Retrieved June 19, 2025, from https://worldpopulationreview.com/country-rankings/countries-where-divorce-is-illegal\n",
    "\n",
    "\n"
   ]
  },
  {
   "cell_type": "markdown",
   "id": "5d330f3f-3835-49c8-80c3-a5a7ae478a08",
   "metadata": {},
   "source": [
    "# CoResidence Data\n",
    "\n",
    "CoResidence with all merges and imputed targets\n"
   ]
  },
  {
   "cell_type": "code",
   "execution_count": 2,
   "id": "4d796bf8-8acd-4e38-b784-1ab27e120f76",
   "metadata": {},
   "outputs": [
    {
     "data": {
      "text/plain": [
       "(7808, 159)"
      ]
     },
     "execution_count": 2,
     "metadata": {},
     "output_type": "execute_result"
    }
   ],
   "source": [
    "# read in data\n",
    "\n",
    "df_raw = pd.read_csv('./artifact/cores_full_merge.csv')\n",
    "df_raw.shape"
   ]
  },
  {
   "cell_type": "code",
   "execution_count": 3,
   "id": "439e895f-47e5-471d-85fa-9bd368c92781",
   "metadata": {},
   "outputs": [],
   "source": [
    "df = df_raw.copy()"
   ]
  },
  {
   "cell_type": "code",
   "execution_count": 4,
   "id": "6fb0f470-5d77-4be5-b820-11c586da4050",
   "metadata": {},
   "outputs": [],
   "source": [
    "# take oly the columns neede for gini analysis\n",
    "# potential to include covariates later\n",
    "\n",
    "df = df_raw[['Country Name', 'Country Code', 'Year', 'Gini_recon_hybrid', 'Gini','Gini_missing']]"
   ]
  },
  {
   "cell_type": "code",
   "execution_count": 5,
   "id": "9ae671d2-741a-41cd-82f9-8da32da267a5",
   "metadata": {},
   "outputs": [
    {
     "data": {
      "text/plain": [
       "(7808, 6)"
      ]
     },
     "execution_count": 5,
     "metadata": {},
     "output_type": "execute_result"
    }
   ],
   "source": [
    "df.shape"
   ]
  },
  {
   "cell_type": "markdown",
   "id": "28ff9bc3-783f-495f-a714-f466fb71ea49",
   "metadata": {},
   "source": [
    "# Divorce Data"
   ]
  },
  {
   "cell_type": "code",
   "execution_count": 6,
   "id": "b9b12a73-fc16-4673-a89d-bcf74a49b68f",
   "metadata": {},
   "outputs": [
    {
     "data": {
      "text/html": [
       "<div>\n",
       "<style scoped>\n",
       "    .dataframe tbody tr th:only-of-type {\n",
       "        vertical-align: middle;\n",
       "    }\n",
       "\n",
       "    .dataframe tbody tr th {\n",
       "        vertical-align: top;\n",
       "    }\n",
       "\n",
       "    .dataframe thead th {\n",
       "        text-align: right;\n",
       "    }\n",
       "</style>\n",
       "<table border=\"1\" class=\"dataframe\">\n",
       "  <thead>\n",
       "    <tr style=\"text-align: right;\">\n",
       "      <th></th>\n",
       "      <th>Country</th>\n",
       "      <th>Blame Based</th>\n",
       "      <th>Fault Comment</th>\n",
       "      <th>Irreconcilable Differences</th>\n",
       "      <th>No Fault Comment</th>\n",
       "      <th>Treatment Y/N</th>\n",
       "      <th>Treatment Year</th>\n",
       "      <th>Unnamed: 8</th>\n",
       "      <th>Fault Based</th>\n",
       "      <th>Mutual No Fault</th>\n",
       "      <th>Unilateral No Fault</th>\n",
       "    </tr>\n",
       "  </thead>\n",
       "  <tbody>\n",
       "    <tr>\n",
       "      <th>0</th>\n",
       "      <td>Afghanistan</td>\n",
       "      <td>1977.0</td>\n",
       "      <td>Fault required</td>\n",
       "      <td>NaN</td>\n",
       "      <td>NaN</td>\n",
       "      <td>No</td>\n",
       "      <td>NaN</td>\n",
       "      <td>NaN</td>\n",
       "      <td>NaN</td>\n",
       "      <td>NaN</td>\n",
       "      <td>NaN</td>\n",
       "    </tr>\n",
       "    <tr>\n",
       "      <th>1</th>\n",
       "      <td>Albania</td>\n",
       "      <td>2003.0</td>\n",
       "      <td>Fault required</td>\n",
       "      <td>2013.0</td>\n",
       "      <td>Favors men</td>\n",
       "      <td>No</td>\n",
       "      <td>NaN</td>\n",
       "      <td>NaN</td>\n",
       "      <td>NaN</td>\n",
       "      <td>NaN</td>\n",
       "      <td>NaN</td>\n",
       "    </tr>\n",
       "    <tr>\n",
       "      <th>2</th>\n",
       "      <td>Algeria</td>\n",
       "      <td>1984.0</td>\n",
       "      <td>Fault required</td>\n",
       "      <td>2005.0</td>\n",
       "      <td>Favors men</td>\n",
       "      <td>No</td>\n",
       "      <td>NaN</td>\n",
       "      <td>NaN</td>\n",
       "      <td>NaN</td>\n",
       "      <td>NaN</td>\n",
       "      <td>NaN</td>\n",
       "    </tr>\n",
       "    <tr>\n",
       "      <th>3</th>\n",
       "      <td>Angola</td>\n",
       "      <td>NaN</td>\n",
       "      <td>NaN</td>\n",
       "      <td>1975.0</td>\n",
       "      <td>No fault</td>\n",
       "      <td>Yes</td>\n",
       "      <td>1976.0</td>\n",
       "      <td>NaN</td>\n",
       "      <td>Yes</td>\n",
       "      <td>Yes</td>\n",
       "      <td>One year separation</td>\n",
       "    </tr>\n",
       "    <tr>\n",
       "      <th>4</th>\n",
       "      <td>Argentina</td>\n",
       "      <td>1987.0</td>\n",
       "      <td>Fault required</td>\n",
       "      <td>2015.0</td>\n",
       "      <td>No fault</td>\n",
       "      <td>Yes</td>\n",
       "      <td>2016.0</td>\n",
       "      <td>NaN</td>\n",
       "      <td>No</td>\n",
       "      <td>Yes</td>\n",
       "      <td>Yes</td>\n",
       "    </tr>\n",
       "  </tbody>\n",
       "</table>\n",
       "</div>"
      ],
      "text/plain": [
       "       Country  Blame Based   Fault Comment  Irreconcilable Differences  \\\n",
       "0  Afghanistan       1977.0  Fault required                         NaN   \n",
       "1      Albania       2003.0  Fault required                      2013.0   \n",
       "2      Algeria       1984.0  Fault required                      2005.0   \n",
       "3       Angola          NaN             NaN                      1975.0   \n",
       "4    Argentina       1987.0  Fault required                      2015.0   \n",
       "\n",
       "  No Fault Comment Treatment Y/N  Treatment Year  Unnamed: 8 Fault Based  \\\n",
       "0              NaN            No             NaN         NaN         NaN   \n",
       "1       Favors men            No             NaN         NaN         NaN   \n",
       "2       Favors men            No             NaN         NaN         NaN   \n",
       "3         No fault           Yes          1976.0         NaN         Yes   \n",
       "4         No fault           Yes          2016.0         NaN          No   \n",
       "\n",
       "  Mutual No Fault  Unilateral No Fault  \n",
       "0             NaN                  NaN  \n",
       "1             NaN                  NaN  \n",
       "2             NaN                  NaN  \n",
       "3             Yes  One year separation  \n",
       "4             Yes                  Yes  "
      ]
     },
     "execution_count": 6,
     "metadata": {},
     "output_type": "execute_result"
    }
   ],
   "source": [
    "# import original divorce data, compiled by me\n",
    "divorce_data = pd.read_csv('./divorce_table_final.csv', index_col=0)\n",
    "divorce_data.head()"
   ]
  },
  {
   "cell_type": "code",
   "execution_count": 7,
   "id": "c30de511-4be7-46fd-bc3a-e3380fd424d8",
   "metadata": {},
   "outputs": [],
   "source": [
    "# convert \"Treatment Y/N\" to integer\n",
    "\n",
    "divorce_data['Treatment'] = divorce_data['Treatment Y/N'].map({'Yes':1, 'No':0})"
   ]
  },
  {
   "cell_type": "code",
   "execution_count": 8,
   "id": "d3da2075-8950-42e2-bc63-45b7949a4b4e",
   "metadata": {},
   "outputs": [
    {
     "name": "stdout",
     "output_type": "stream",
     "text": [
      "All good and tidy.\n"
     ]
    }
   ],
   "source": [
    "# check if any years are missing from treatment\n",
    "\n",
    "mask = (divorce_data['Treatment'].eq(1) & divorce_data['Treatment Year'].isnull())\n",
    "    \n",
    "if mask.any():  \n",
    "    print(f\"Uh-oh, year missing for {divorce_data.loc[mask, 'Country'].to_list()}\")\n",
    "else:\n",
    "    print('All good and tidy.')"
   ]
  },
  {
   "cell_type": "code",
   "execution_count": 9,
   "id": "db58e118-7fab-45ac-a303-4eeb4ebda581",
   "metadata": {},
   "outputs": [
    {
     "name": "stdout",
     "output_type": "stream",
     "text": [
      "All good and tidy.\n"
     ]
    }
   ],
   "source": [
    "# check if any untreated years have a date in the \"Treatment Year\" column by accident\n",
    "\n",
    "mask = (divorce_data['Treatment Y/N']=='No') & (divorce_data['Treatment Year'].notnull())\n",
    "\n",
    "if mask.any():\n",
    "    print(f\"Uh-oh, year missing for {divorce_data.loc[mask, 'Country'].to_list()}\")\n",
    "else:\n",
    "    print('All good and tidy.')"
   ]
  },
  {
   "cell_type": "code",
   "execution_count": 10,
   "id": "e5e02a3c-d3af-4e7f-8d31-38068162fcde",
   "metadata": {},
   "outputs": [
    {
     "data": {
      "image/png": "[encoded data removed]",
      "text/plain": [
       "<Figure size 640x480 with 1 Axes>"
      ]
     },
     "metadata": {},
     "output_type": "display_data"
    }
   ],
   "source": [
    "# visualize divorce year\n",
    "\n",
    "divorce_data['Treatment Year'].hist(bins=50)\n",
    "plt.title('Treatment Year Distribution - Divorce Data')\n",
    "plt.show()"
   ]
  },
  {
   "cell_type": "markdown",
   "id": "8d44fc3c-47e9-4970-85bb-28536507b467",
   "metadata": {},
   "source": [
    "# Merge: CoResidence & Divorce Data"
   ]
  },
  {
   "cell_type": "code",
   "execution_count": 11,
   "id": "a54bf5ba-814b-4b24-b74a-2ee3b4b1e50a",
   "metadata": {},
   "outputs": [
    {
     "data": {
      "text/plain": [
       "['Congo, Dem. Rep.',\n",
       " 'Czechia',\n",
       " 'Egypt, Arab Rep.',\n",
       " 'Gambia, The',\n",
       " 'Iran, Islamic Rep.',\n",
       " 'Korea, Rep.',\n",
       " 'Lao PDR',\n",
       " 'North Macedonia',\n",
       " 'West Bank and Gaza',\n",
       " 'Russian Federation',\n",
       " 'Slovak Republic',\n",
       " 'Venezuela, RB',\n",
       " 'Viet Nam',\n",
       " 'Yemen, Rep.']"
      ]
     },
     "execution_count": 11,
     "metadata": {},
     "output_type": "execute_result"
    }
   ],
   "source": [
    "# anticipate merge failures\n",
    "\n",
    "[country for country in df['Country Name'].unique() if country not in divorce_data['Country'].unique()]"
   ]
  },
  {
   "cell_type": "code",
   "execution_count": 12,
   "id": "282d5136-3540-426f-aef0-cf606fd40dd9",
   "metadata": {},
   "outputs": [],
   "source": [
    "# name mapper for improved merge:\n",
    "\n",
    "country_name_mapper = {\n",
    "    'Congo, Dem. Rep.':'Congo',\n",
    " 'Czechia':'Czech Republic',\n",
    " 'Egypt, Arab Rep.':'Egypt',\n",
    " 'Gambia, The':'Gambia',\n",
    " 'Iran, Islamic Rep.':'Iran',\n",
    " 'Korea, Rep.':'South Korea',\n",
    " 'Lao PDR':'Laos',\n",
    " 'North Macedonia':'Macedonia',\n",
    " 'West Bank and Gaza':'Palestine',\n",
    " 'Russian Federation':'Russia',\n",
    " 'Slovak Republic':'Slovakia',\n",
    " 'Venezuela, RB':'Venezuela',\n",
    " 'Viet Nam':'Vietnam',\n",
    " 'Yemen, Rep.':'Yemen'\n",
    "}\n",
    "\n",
    "# reverse\n",
    "country_name_mapper = {\n",
    "    value:key for key, value in country_name_mapper.items()\n",
    "}\n"
   ]
  },
  {
   "cell_type": "code",
   "execution_count": 13,
   "id": "247100e0-26fc-4327-9101-720d3970121b",
   "metadata": {},
   "outputs": [],
   "source": [
    "# update names in right table to prepare for successful merge\n",
    "\n",
    "divorce_data['Country'] = divorce_data['Country'].replace(country_name_mapper)\n"
   ]
  },
  {
   "cell_type": "code",
   "execution_count": 14,
   "id": "08fc042a-0c64-4934-a4bb-482434b14242",
   "metadata": {},
   "outputs": [],
   "source": [
    "# left merge with divorce data\n",
    "\n",
    "df_mstr = df.merge(divorce_data, left_on='Country Name', right_on='Country', how='left')"
   ]
  },
  {
   "cell_type": "code",
   "execution_count": 15,
   "id": "0c8e994e-7e48-4ca6-8ec9-872848050456",
   "metadata": {},
   "outputs": [],
   "source": [
    "# drop columns not needed \n",
    "columns_to_drop = ['Unnamed: 8', 'Fault Based', 'Mutual No Fault', 'Unilateral No Fault']\n",
    "df_mstr = df_mstr.drop(columns=columns_to_drop)"
   ]
  },
  {
   "cell_type": "code",
   "execution_count": 16,
   "id": "46c972c7-1d60-4238-95a2-7d5e43e7f674",
   "metadata": {},
   "outputs": [
    {
     "data": {
      "image/png": "[encoded data removed]",
      "text/plain": [
       "<Figure size 640x480 with 1 Axes>"
      ]
     },
     "metadata": {},
     "output_type": "display_data"
    },
    {
     "name": "stdout",
     "output_type": "stream",
     "text": [
      "Percentage of observations ever treated: 54.92%\n"
     ]
    }
   ],
   "source": [
    "# Plot treatment years represented in merged data\n",
    "\n",
    "df_mstr['Treatment Year'].hist(bins=50)\n",
    "plt.title('Treatment Years Represented in Gini Data')\n",
    "plt.show()\n",
    "\n",
    "# size of treated vs. not treated, by year\n",
    "percent_treated = df_mstr['Treatment Year'].notnull().sum()/len(df_mstr)\n",
    "print(f\"Percentage of observations ever treated: {percent_treated*100:.2f}%\")"
   ]
  },
  {
   "cell_type": "markdown",
   "id": "fe86abc8-e6ed-4b3b-bd1d-ec30d04360f4",
   "metadata": {},
   "source": [
    "# Data Prep\n",
    "\n",
    "Prepare the data for DiD-specific requirements, including removing singletons and ensuring that each cohort has at least 30 instances of treated data"
   ]
  },
  {
   "cell_type": "code",
   "execution_count": 17,
   "id": "0b9d2253-2061-4ca1-a3ae-08da7c89a06b",
   "metadata": {},
   "outputs": [
    {
     "name": "stdout",
     "output_type": "stream",
     "text": [
      "122\n"
     ]
    },
    {
     "data": {
      "text/plain": [
       "(7808, 14)"
      ]
     },
     "execution_count": 17,
     "metadata": {},
     "output_type": "execute_result"
    }
   ],
   "source": [
    "print(df_mstr['Country'].nunique())\n",
    "df_mstr.shape"
   ]
  },
  {
   "cell_type": "code",
   "execution_count": 18,
   "id": "3d572afa-e31c-458f-87d7-fe1d4acb63c9",
   "metadata": {},
   "outputs": [],
   "source": [
    "# OnTreat column tracks which entities and years have received treatment\n",
    "\n",
    "df_mstr['OnTreat'] = (\n",
    "    (df_mstr['Year']>=df_mstr['Treatment Year']) & df_mstr['Treatment'].eq(1)\n",
    ").astype(int)\n"
   ]
  },
  {
   "cell_type": "code",
   "execution_count": 19,
   "id": "da4a8e1a-2ff8-427d-8c6d-6e140bef1213",
   "metadata": {},
   "outputs": [],
   "source": [
    "# create treatment cohorts\n",
    "\n",
    "def treatment_cohort(treatment_year):\n",
    "    \"\"\"Takes treatment year and assigns to a cohort\"\"\"\n",
    "    if pd.isna(treatment_year):\n",
    "        return np.nan\n",
    "    floor_decade = int((treatment_year)//10*10)\n",
    "    ceiling_decade = floor_decade + 9\n",
    "    treatment_cohort = f\"{floor_decade}-{ceiling_decade}\"\n",
    "    return(treatment_cohort)\n",
    "    "
   ]
  },
  {
   "cell_type": "code",
   "execution_count": 20,
   "id": "6b941fab-ca06-4770-8271-9aa80255cef3",
   "metadata": {},
   "outputs": [
    {
     "name": "stdout",
     "output_type": "stream",
     "text": [
      "Treatment Cohorts: ['1910-1919', '1940-1949', '1960-1969', '1970-1979', '1980-1989', '1990-1999', '2000-2009', '2010-2019', '2020-2029']\n"
     ]
    }
   ],
   "source": [
    "# create treatment cohorts using formula\n",
    "\n",
    "df_mstr['Treatment Cohort'] = df_mstr['Treatment Year'].apply(lambda x: treatment_cohort(x))\n",
    "\n",
    "print(f\"Treatment Cohorts: {sorted(df_mstr['Treatment Cohort'].dropna().unique())}\")"
   ]
  },
  {
   "cell_type": "code",
   "execution_count": 21,
   "id": "d46d9ebf-6d3b-4abf-a157-6c2fd6c5f32f",
   "metadata": {},
   "outputs": [],
   "source": [
    "# define viable group as having both pre and post years (when treated)\n",
    "\n",
    "def group_viability(group):\n",
    "    \"\"\"Tests a group for DiD viability\"\"\"\n",
    "    min_t = group['OnTreat'].min()\n",
    "    max_t = group['OnTreat'].max()\n",
    "\n",
    "    viable_group_mask = ((min_t==0) & (max_t==1)) | (max_t==0)\n",
    "    viable_group_mask &= (group['Year'].nunique()>=2)\n",
    "\n",
    "    viable_groups = viable_group_mask[viable_group_mask].index\n",
    "    \n",
    "    return viable_groups"
   ]
  },
  {
   "cell_type": "code",
   "execution_count": 22,
   "id": "ceacedd1-4e2c-412e-a26c-36acd7c3e566",
   "metadata": {},
   "outputs": [
    {
     "data": {
      "text/plain": [
       "Index(['Albania', 'Algeria', 'Argentina', 'Armenia', 'Australia', 'Austria',\n",
       "       'Bangladesh', 'Belarus', 'Belgium', 'Benin',\n",
       "       ...\n",
       "       'Ukraine', 'United Kingdom', 'United States', 'Uzbekistan',\n",
       "       'Venezuela, RB', 'Viet Nam', 'West Bank and Gaza', 'Yemen, Rep.',\n",
       "       'Zambia', 'Zimbabwe'],\n",
       "      dtype='object', name='Country', length=120)"
      ]
     },
     "execution_count": 22,
     "metadata": {},
     "output_type": "execute_result"
    }
   ],
   "source": [
    "# \n",
    "group = df_mstr.groupby('Country')\n",
    "\n",
    "viable_countries = group_viability(group)\n",
    "viable_countries"
   ]
  },
  {
   "cell_type": "code",
   "execution_count": 23,
   "id": "e6638d82-38f0-47f4-8bc2-324ceffeaa96",
   "metadata": {},
   "outputs": [
    {
     "data": {
      "text/plain": [
       "(7808, 16)"
      ]
     },
     "execution_count": 23,
     "metadata": {},
     "output_type": "execute_result"
    }
   ],
   "source": [
    "# filter df_mstr down to appropriate countries only\n",
    "# \"singleton\" countries are filtered out\n",
    "# further filtering will be needed by cohort or event time group\n",
    "\n",
    "#df_mstr = df_mstr[df_mstr['Country'].isin(viable_countries)]\n",
    "df_mstr.shape"
   ]
  },
  {
   "cell_type": "markdown",
   "id": "897079d4-93ab-418a-85e0-920399135a93",
   "metadata": {},
   "source": [
    "### df_mstr change log\n",
    "\n",
    "df_mstr has gone through preliminary preparatory steps to ensure best outcomes in the varying DiD approaches that follow. Further filtering may be needed to ensure that event time requirements are met.\n",
    "\n",
    "For now, the following changes were made to **df_mstr** vs. raw data, after the left merge with divorce data:\n",
    "\n",
    "1) OnTreat column created\n",
    "2) Singleton treated countries filtered out\n",
    "3) Treatment cohort column created\n",
    "\n",
    "Singleton countries are countries lacking in either intra-unit or time variation. In other words, treated countries that lack a pre-treatment year, or never-treated countries with less than two years of data. Without variation, no difference in difference can be calculated. These countries have been filtered out using a function written for the purpose: **group_viability()**\n"
   ]
  },
  {
   "cell_type": "markdown",
   "id": "39de77e7-c652-49f1-8457-8b867ee6b723",
   "metadata": {},
   "source": [
    "## Cohort Study with smf.OLS()"
   ]
  },
  {
   "cell_type": "code",
   "execution_count": 26,
   "id": "3667b967-831b-4ffc-be6c-36d9fe42fc2c",
   "metadata": {},
   "outputs": [],
   "source": [
    "# create a copy of the master data \n",
    "\n",
    "df_did = df_mstr.copy()"
   ]
  },
  {
   "cell_type": "code",
   "execution_count": 29,
   "id": "c9ed646d-72bb-4b91-a324-62430bc01004",
   "metadata": {},
   "outputs": [
    {
     "data": {
      "text/html": [
       "<div>\n",
       "<style scoped>\n",
       "    .dataframe tbody tr th:only-of-type {\n",
       "        vertical-align: middle;\n",
       "    }\n",
       "\n",
       "    .dataframe tbody tr th {\n",
       "        vertical-align: top;\n",
       "    }\n",
       "\n",
       "    .dataframe thead th {\n",
       "        text-align: right;\n",
       "    }\n",
       "</style>\n",
       "<table border=\"1\" class=\"dataframe\">\n",
       "  <thead>\n",
       "    <tr style=\"text-align: right;\">\n",
       "      <th></th>\n",
       "      <th>count</th>\n",
       "    </tr>\n",
       "    <tr>\n",
       "      <th>Treatment Cohort</th>\n",
       "      <th></th>\n",
       "    </tr>\n",
       "  </thead>\n",
       "  <tbody>\n",
       "    <tr>\n",
       "      <th>1910-1919</th>\n",
       "      <td>1</td>\n",
       "    </tr>\n",
       "    <tr>\n",
       "      <th>1940-1949</th>\n",
       "      <td>1</td>\n",
       "    </tr>\n",
       "    <tr>\n",
       "      <th>1960-1969</th>\n",
       "      <td>1</td>\n",
       "    </tr>\n",
       "    <tr>\n",
       "      <th>1970-1979</th>\n",
       "      <td>14</td>\n",
       "    </tr>\n",
       "    <tr>\n",
       "      <th>1980-1989</th>\n",
       "      <td>9</td>\n",
       "    </tr>\n",
       "    <tr>\n",
       "      <th>1990-1999</th>\n",
       "      <td>11</td>\n",
       "    </tr>\n",
       "    <tr>\n",
       "      <th>2000-2009</th>\n",
       "      <td>17</td>\n",
       "    </tr>\n",
       "    <tr>\n",
       "      <th>2010-2019</th>\n",
       "      <td>7</td>\n",
       "    </tr>\n",
       "    <tr>\n",
       "      <th>2020-2029</th>\n",
       "      <td>6</td>\n",
       "    </tr>\n",
       "  </tbody>\n",
       "</table>\n",
       "</div>"
      ],
      "text/plain": [
       "                  count\n",
       "Treatment Cohort       \n",
       "1910-1919             1\n",
       "1940-1949             1\n",
       "1960-1969             1\n",
       "1970-1979            14\n",
       "1980-1989             9\n",
       "1990-1999            11\n",
       "2000-2009            17\n",
       "2010-2019             7\n",
       "2020-2029             6"
      ]
     },
     "execution_count": 29,
     "metadata": {},
     "output_type": "execute_result"
    }
   ],
   "source": [
    "# countries per cohort\n",
    "\n",
    "df_did.groupby('Treatment Cohort').agg(count = ('Country', 'nunique'))"
   ]
  },
  {
   "cell_type": "code",
   "execution_count": 30,
   "id": "fcdb8977-b89c-41da-b1db-bc453fb667bc",
   "metadata": {},
   "outputs": [
    {
     "data": {
      "text/plain": [
       "Index(['1960-1969', '1970-1979', '1980-1989', '1990-1999', '2000-2009',\n",
       "       '2010-2019', '2020-2029'],\n",
       "      dtype='object', name='Treatment Cohort')"
      ]
     },
     "execution_count": 30,
     "metadata": {},
     "output_type": "execute_result"
    }
   ],
   "source": [
    "# define viable cohort to avoid \n",
    "\n",
    "group = df_did.groupby('Treatment Cohort')\n",
    "\n",
    "viable_cohorts = group_viability(group)\n",
    "viable_cohorts"
   ]
  },
  {
   "cell_type": "code",
   "execution_count": 31,
   "id": "3abf58ad-0400-44e4-9994-d04130172985",
   "metadata": {},
   "outputs": [
    {
     "data": {
      "image/png": "[encoded data removed]",
      "text/plain": [
       "<Figure size 640x480 with 1 Axes>"
      ]
     },
     "metadata": {},
     "output_type": "display_data"
    }
   ],
   "source": [
    "# visualize cohort trends\n",
    "\n",
    "fig, ax = plt.subplots()\n",
    "\n",
    "for cohort in viable_cohorts:\n",
    "    \n",
    "    annual_agg = (\n",
    "        df_mstr[df_mstr['Treatment Cohort']==cohort]\n",
    "        .groupby('Year', as_index=False).agg(Annual_Gini=('Gini_recon_hybrid', 'mean'))\n",
    "    )\n",
    "    x_axis = annual_agg['Year']\n",
    "    y_axis = annual_agg['Annual_Gini']\n",
    "\n",
    "    plt.plot(x_axis, y_axis, label = cohort)\n",
    "    plt.legend(bbox_to_anchor=(1,1))\n",
    "\n",
    "plt.title(\"Gini (Inverted) by Treatment Cohort\")\n",
    "plt.show()"
   ]
  },
  {
   "cell_type": "code",
   "execution_count": 32,
   "id": "e328012e-d829-4b1b-b0a5-1b2f76cdb4ec",
   "metadata": {},
   "outputs": [
    {
     "name": "stdout",
     "output_type": "stream",
     "text": [
      "1960-1969\n",
      "1960-1969 Series([], Name: Country, dtype: int64)\n",
      "1970-1979\n",
      "1970-1979 Series([], Name: Country, dtype: int64)\n"
     ]
    },
    {
     "name": "stderr",
     "output_type": "stream",
     "text": [
      "/Users/lilianburgler/anaconda3/lib/python3.10/site-packages/statsmodels/regression/linear_model.py:1854: RuntimeWarning: invalid value encountered in sqrt\n",
      "  return np.sqrt(np.diag(self.cov_params()))\n",
      "/Users/lilianburgler/anaconda3/lib/python3.10/site-packages/statsmodels/regression/linear_model.py:1854: RuntimeWarning: invalid value encountered in sqrt\n",
      "  return np.sqrt(np.diag(self.cov_params()))\n"
     ]
    },
    {
     "name": "stdout",
     "output_type": "stream",
     "text": [
      "1980-1989\n",
      "1980-1989 Series([], Name: Country, dtype: int64)\n",
      "1990-1999\n",
      "1990-1999 Series([], Name: Country, dtype: int64)\n",
      "2000-2009\n",
      "2000-2009 Series([], Name: Country, dtype: int64)\n",
      "2010-2019\n",
      "2010-2019 Series([], Name: Country, dtype: int64)\n",
      "2020-2029\n",
      "2020-2029 Series([], Name: Country, dtype: int64)\n"
     ]
    },
    {
     "name": "stderr",
     "output_type": "stream",
     "text": [
      "/Users/lilianburgler/anaconda3/lib/python3.10/site-packages/statsmodels/regression/linear_model.py:1854: RuntimeWarning: invalid value encountered in sqrt\n",
      "  return np.sqrt(np.diag(self.cov_params()))\n",
      "/Users/lilianburgler/anaconda3/lib/python3.10/site-packages/statsmodels/regression/linear_model.py:1854: RuntimeWarning: invalid value encountered in sqrt\n",
      "  return np.sqrt(np.diag(self.cov_params()))\n",
      "/Users/lilianburgler/anaconda3/lib/python3.10/site-packages/statsmodels/regression/linear_model.py:1854: RuntimeWarning: invalid value encountered in sqrt\n",
      "  return np.sqrt(np.diag(self.cov_params()))\n"
     ]
    }
   ],
   "source": [
    "# DiD\n",
    "\n",
    "# initiate dictionaries to store results\n",
    "results = {}\n",
    "warn_log = {}\n",
    "custom_summary = []\n",
    "\n",
    "Y = 'Gini_recon_hybrid'\n",
    "target = 'Treatment:OnTreat'\n",
    "\n",
    "for cohort in viable_cohorts:\n",
    "    print(cohort)\n",
    "    treated_mask = df_did['Treatment Cohort']==cohort #all cohorts by definition are treated\n",
    "    treated = df_did[treated_mask]\n",
    "\n",
    "    benchmark_year = treated['Treatment Year'].mode().iat[0] #treatment year per cohort\n",
    "    \n",
    "    # control groups:\n",
    "    # never treated & not-yet-treated (where years come before treatment)\n",
    "    never_treated_mask = df_did['Treatment']== 0\n",
    "    not_yet_treated_mask = (df_did['Treatment Year'].gt(benchmark_year) \n",
    "                            & df_did['Year'].lt(df_did['Treatment Year']))\n",
    "    control_mask = never_treated_mask | not_yet_treated_mask\n",
    "                            \n",
    "    subset = df_did.loc[treated_mask | control_mask].copy()\n",
    "    \n",
    "    # identify countries with fewer than 2 observations\n",
    "    singleton_countries = subset['Country'].value_counts().loc[lambda x: x<2]\n",
    "    print(cohort, singleton_countries)\n",
    "    \n",
    "    # drop singleton countries\n",
    "    subset = subset[~subset['Country'].isin(singleton_countries)].copy()\n",
    "    \n",
    "    # DiD formula\n",
    "    formula = f\"{Y} ~ Treatment:OnTreat + C(Year) + C(Country)\"\n",
    "    \n",
    "    \n",
    "\n",
    "    result = smf.ols(formula=formula, data=subset).fit(\n",
    "    cov_type = 'cluster',\n",
    "    cov_kwds = {'groups': subset['Country']})\n",
    "        \n",
    "\n",
    "    \n",
    "    # collect results in dictionary\n",
    "    results[cohort] = result\n",
    "\n",
    "    # generate DiD stats\n",
    "    coef = result.params.get(target, np.nan)\n",
    "    se = result.bse.get(target, np.nan)\n",
    "    tval = result.tvalues.get(target, np.nan)\n",
    "    pval = result.pvalues.get(target, np.nan)\n",
    "    \n",
    "    if (not np.isfinite(se)) or (se==0):\n",
    "        warn_log.setdefault(cohort, []).append(\n",
    "            f\"SE invalid (se={se}); clusters={subset['Country'].nunique()}\"\n",
    "        )\n",
    "        \n",
    "    # gather DiD stats\n",
    "    custom_summary.append({\n",
    "        \"cohort\" : cohort,\n",
    "        \"coef\": coef,\n",
    "        \"se\":se,\n",
    "        \"tval\": tval,\n",
    "        \"pval\": pval\n",
    "    }\n",
    "    )"
   ]
  },
  {
   "cell_type": "code",
   "execution_count": 33,
   "id": "bdca8017-e5b5-4793-a898-5169584e3c23",
   "metadata": {},
   "outputs": [
    {
     "data": {
      "text/html": [
       "<div>\n",
       "<style scoped>\n",
       "    .dataframe tbody tr th:only-of-type {\n",
       "        vertical-align: middle;\n",
       "    }\n",
       "\n",
       "    .dataframe tbody tr th {\n",
       "        vertical-align: top;\n",
       "    }\n",
       "\n",
       "    .dataframe thead th {\n",
       "        text-align: right;\n",
       "    }\n",
       "</style>\n",
       "<table border=\"1\" class=\"dataframe\">\n",
       "  <thead>\n",
       "    <tr style=\"text-align: right;\">\n",
       "      <th></th>\n",
       "      <th>cohort</th>\n",
       "      <th>coef</th>\n",
       "      <th>se</th>\n",
       "      <th>tval</th>\n",
       "      <th>pval</th>\n",
       "    </tr>\n",
       "  </thead>\n",
       "  <tbody>\n",
       "    <tr>\n",
       "      <th>0</th>\n",
       "      <td>1960-1969</td>\n",
       "      <td>0.056761</td>\n",
       "      <td>0.031125</td>\n",
       "      <td>1.823670</td>\n",
       "      <td>0.068202</td>\n",
       "    </tr>\n",
       "    <tr>\n",
       "      <th>1</th>\n",
       "      <td>1970-1979</td>\n",
       "      <td>0.000165</td>\n",
       "      <td>0.172848</td>\n",
       "      <td>0.000957</td>\n",
       "      <td>0.999236</td>\n",
       "    </tr>\n",
       "    <tr>\n",
       "      <th>2</th>\n",
       "      <td>1980-1989</td>\n",
       "      <td>0.140867</td>\n",
       "      <td>0.065704</td>\n",
       "      <td>2.143982</td>\n",
       "      <td>0.032034</td>\n",
       "    </tr>\n",
       "    <tr>\n",
       "      <th>3</th>\n",
       "      <td>1990-1999</td>\n",
       "      <td>0.296859</td>\n",
       "      <td>0.165143</td>\n",
       "      <td>1.797586</td>\n",
       "      <td>0.072243</td>\n",
       "    </tr>\n",
       "    <tr>\n",
       "      <th>4</th>\n",
       "      <td>2000-2009</td>\n",
       "      <td>0.571908</td>\n",
       "      <td>0.299590</td>\n",
       "      <td>1.908971</td>\n",
       "      <td>0.056266</td>\n",
       "    </tr>\n",
       "    <tr>\n",
       "      <th>5</th>\n",
       "      <td>2010-2019</td>\n",
       "      <td>0.601090</td>\n",
       "      <td>0.862211</td>\n",
       "      <td>0.697150</td>\n",
       "      <td>0.485709</td>\n",
       "    </tr>\n",
       "    <tr>\n",
       "      <th>6</th>\n",
       "      <td>2020-2029</td>\n",
       "      <td>-0.573471</td>\n",
       "      <td>0.173415</td>\n",
       "      <td>-3.306929</td>\n",
       "      <td>0.000943</td>\n",
       "    </tr>\n",
       "  </tbody>\n",
       "</table>\n",
       "</div>"
      ],
      "text/plain": [
       "      cohort      coef        se      tval      pval\n",
       "0  1960-1969  0.056761  0.031125  1.823670  0.068202\n",
       "1  1970-1979  0.000165  0.172848  0.000957  0.999236\n",
       "2  1980-1989  0.140867  0.065704  2.143982  0.032034\n",
       "3  1990-1999  0.296859  0.165143  1.797586  0.072243\n",
       "4  2000-2009  0.571908  0.299590  1.908971  0.056266\n",
       "5  2010-2019  0.601090  0.862211  0.697150  0.485709\n",
       "6  2020-2029 -0.573471  0.173415 -3.306929  0.000943"
      ]
     },
     "execution_count": 33,
     "metadata": {},
     "output_type": "execute_result"
    }
   ],
   "source": [
    "# inspect custom summary\n",
    "custom_summary = pd.DataFrame(custom_summary)\n",
    "custom_summary"
   ]
  },
  {
   "cell_type": "code",
   "execution_count": 34,
   "id": "b40c992a-ac2e-444e-9bbe-ebffa4a06351",
   "metadata": {},
   "outputs": [
    {
     "data": {
      "text/plain": [
       "{}"
      ]
     },
     "execution_count": 34,
     "metadata": {},
     "output_type": "execute_result"
    }
   ],
   "source": [
    "# inspect warnings for DiD term\n",
    "warn_log"
   ]
  },
  {
   "cell_type": "markdown",
   "id": "0793034d-7f15-4e60-aea0-6fcfbec7da04",
   "metadata": {},
   "source": [
    "## Cohort with PanelOLS"
   ]
  },
  {
   "cell_type": "code",
   "execution_count": 35,
   "id": "afe2f472-c2e6-404f-a082-09d5a7475d48",
   "metadata": {},
   "outputs": [],
   "source": [
    "# create a copy\n",
    "df_panel = df_did.copy()\n"
   ]
  },
  {
   "cell_type": "code",
   "execution_count": 36,
   "id": "c473a1ae-b13e-4cd2-89e1-bf0fc0a40c7f",
   "metadata": {},
   "outputs": [],
   "source": [
    "# set index as required by panel ols\n",
    "df_panel = df_panel.set_index(['Country', 'Year'])"
   ]
  },
  {
   "cell_type": "code",
   "execution_count": 38,
   "id": "61fed0bd-b773-4029-b6b5-74370607a669",
   "metadata": {},
   "outputs": [
    {
     "name": "stdout",
     "output_type": "stream",
     "text": [
      "1960-1969\n",
      "1965.0\n",
      "1970-1979\n",
      "1977.0\n",
      "1980-1989\n",
      "1980.0\n",
      "1990-1999\n",
      "1992.0\n",
      "2000-2009\n",
      "2001.0\n",
      "2010-2019\n",
      "2016.0\n",
      "2020-2029\n",
      "2021.0\n"
     ]
    }
   ],
   "source": [
    "# try with panel ols\n",
    "\n",
    "panel_results = {}\n",
    "panel_summary = []\n",
    "\n",
    "for cohort in viable_cohorts:\n",
    "    print(cohort)\n",
    "    \n",
    "    benchmark_year = df_panel.loc[df_panel['Treatment Cohort']==cohort, 'Treatment Year'].mode().iat[0]\n",
    "    print(benchmark_year)\n",
    "    \n",
    "    treated_mask = df_panel['Treatment Cohort'] == cohort\n",
    "    \n",
    "    never_treated_mask = df_panel['Treatment'] == 0\n",
    "    not_yet_treated_mask = (\n",
    "        (df_panel['Treatment Year'] > benchmark_year) & \n",
    "        (df_panel.index.get_level_values('Year') < df_panel['Treatment Year'])\n",
    "    )\n",
    "    \n",
    "    control_mask = never_treated_mask | not_yet_treated_mask\n",
    "    \n",
    "    es_cols = ['OnTreat']\n",
    "    \n",
    "    subset = df_panel.loc[treated_mask | control_mask, es_cols]\n",
    "    \n",
    "    y = df_panel.loc[subset.index, 'Gini_recon_hybrid']\n",
    "    X = subset.copy()\n",
    "    \n",
    "    model = PanelOLS(y, X, entity_effects=True, time_effects=True)\n",
    "    result = model.fit(cov_type='clustered', cluster_entity=True, cluster_time=False)\n",
    "    \n",
    "    panel_results[cohort] = result\n",
    "    \n",
    "    # build custom summary\n",
    "    panel_summary.append(\n",
    "        {\n",
    "        'cohort':cohort,\n",
    "        'coefficient': result.params.iat[0],\n",
    "        'standard error': result.std_errors.iat[0],\n",
    "        'p_value': result.pvalues.iat[0],\n",
    "        't_value': result.tstats.iat[0]\n",
    "    }\n",
    "    )\n",
    "    "
   ]
  },
  {
   "cell_type": "code",
   "execution_count": 39,
   "id": "340ca6ee-2f44-4403-8954-d96ce6ea1b71",
   "metadata": {},
   "outputs": [
    {
     "data": {
      "text/html": [
       "<div>\n",
       "<style scoped>\n",
       "    .dataframe tbody tr th:only-of-type {\n",
       "        vertical-align: middle;\n",
       "    }\n",
       "\n",
       "    .dataframe tbody tr th {\n",
       "        vertical-align: top;\n",
       "    }\n",
       "\n",
       "    .dataframe thead th {\n",
       "        text-align: right;\n",
       "    }\n",
       "</style>\n",
       "<table border=\"1\" class=\"dataframe\">\n",
       "  <thead>\n",
       "    <tr style=\"text-align: right;\">\n",
       "      <th></th>\n",
       "      <th>cohort</th>\n",
       "      <th>coefficient</th>\n",
       "      <th>standard error</th>\n",
       "      <th>p_value</th>\n",
       "      <th>t_value</th>\n",
       "    </tr>\n",
       "  </thead>\n",
       "  <tbody>\n",
       "    <tr>\n",
       "      <th>0</th>\n",
       "      <td>1960-1969</td>\n",
       "      <td>0.056761</td>\n",
       "      <td>0.030998</td>\n",
       "      <td>0.067129</td>\n",
       "      <td>1.831161</td>\n",
       "    </tr>\n",
       "    <tr>\n",
       "      <th>1</th>\n",
       "      <td>1970-1979</td>\n",
       "      <td>0.000165</td>\n",
       "      <td>0.172133</td>\n",
       "      <td>0.999233</td>\n",
       "      <td>0.000961</td>\n",
       "    </tr>\n",
       "    <tr>\n",
       "      <th>2</th>\n",
       "      <td>1980-1989</td>\n",
       "      <td>0.140867</td>\n",
       "      <td>0.065395</td>\n",
       "      <td>0.031275</td>\n",
       "      <td>2.154085</td>\n",
       "    </tr>\n",
       "    <tr>\n",
       "      <th>3</th>\n",
       "      <td>1990-1999</td>\n",
       "      <td>0.296859</td>\n",
       "      <td>0.164295</td>\n",
       "      <td>0.070837</td>\n",
       "      <td>1.806864</td>\n",
       "    </tr>\n",
       "    <tr>\n",
       "      <th>4</th>\n",
       "      <td>2000-2009</td>\n",
       "      <td>0.571908</td>\n",
       "      <td>0.297850</td>\n",
       "      <td>0.054897</td>\n",
       "      <td>1.920121</td>\n",
       "    </tr>\n",
       "    <tr>\n",
       "      <th>5</th>\n",
       "      <td>2010-2019</td>\n",
       "      <td>0.601090</td>\n",
       "      <td>0.855946</td>\n",
       "      <td>0.482561</td>\n",
       "      <td>0.702252</td>\n",
       "    </tr>\n",
       "    <tr>\n",
       "      <th>6</th>\n",
       "      <td>2020-2029</td>\n",
       "      <td>-0.573471</td>\n",
       "      <td>0.172010</td>\n",
       "      <td>0.000864</td>\n",
       "      <td>-3.333946</td>\n",
       "    </tr>\n",
       "  </tbody>\n",
       "</table>\n",
       "</div>"
      ],
      "text/plain": [
       "      cohort  coefficient  standard error   p_value   t_value\n",
       "0  1960-1969     0.056761        0.030998  0.067129  1.831161\n",
       "1  1970-1979     0.000165        0.172133  0.999233  0.000961\n",
       "2  1980-1989     0.140867        0.065395  0.031275  2.154085\n",
       "3  1990-1999     0.296859        0.164295  0.070837  1.806864\n",
       "4  2000-2009     0.571908        0.297850  0.054897  1.920121\n",
       "5  2010-2019     0.601090        0.855946  0.482561  0.702252\n",
       "6  2020-2029    -0.573471        0.172010  0.000864 -3.333946"
      ]
     },
     "execution_count": 39,
     "metadata": {},
     "output_type": "execute_result"
    }
   ],
   "source": [
    "panel_summary = pd.DataFrame(panel_summary)\n",
    "\n",
    "panel_summary"
   ]
  },
  {
   "cell_type": "code",
   "execution_count": 40,
   "id": "fcc12ce8-3729-4ab8-b942-e0288ea2689c",
   "metadata": {},
   "outputs": [
    {
     "data": {
      "text/html": [
       "<div>\n",
       "<style scoped>\n",
       "    .dataframe tbody tr th:only-of-type {\n",
       "        vertical-align: middle;\n",
       "    }\n",
       "\n",
       "    .dataframe tbody tr th {\n",
       "        vertical-align: top;\n",
       "    }\n",
       "\n",
       "    .dataframe thead th {\n",
       "        text-align: right;\n",
       "    }\n",
       "</style>\n",
       "<table border=\"1\" class=\"dataframe\">\n",
       "  <thead>\n",
       "    <tr style=\"text-align: right;\">\n",
       "      <th></th>\n",
       "      <th>cohort</th>\n",
       "      <th>coef</th>\n",
       "      <th>se</th>\n",
       "      <th>tval</th>\n",
       "      <th>pval</th>\n",
       "      <th>cohort</th>\n",
       "      <th>coefficient</th>\n",
       "      <th>standard error</th>\n",
       "      <th>p_value</th>\n",
       "      <th>t_value</th>\n",
       "    </tr>\n",
       "  </thead>\n",
       "  <tbody>\n",
       "    <tr>\n",
       "      <th>0</th>\n",
       "      <td>1960-1969</td>\n",
       "      <td>0.056761</td>\n",
       "      <td>0.031125</td>\n",
       "      <td>1.823670</td>\n",
       "      <td>0.068202</td>\n",
       "      <td>1960-1969</td>\n",
       "      <td>0.056761</td>\n",
       "      <td>0.030998</td>\n",
       "      <td>0.067129</td>\n",
       "      <td>1.831161</td>\n",
       "    </tr>\n",
       "    <tr>\n",
       "      <th>1</th>\n",
       "      <td>1970-1979</td>\n",
       "      <td>0.000165</td>\n",
       "      <td>0.172848</td>\n",
       "      <td>0.000957</td>\n",
       "      <td>0.999236</td>\n",
       "      <td>1970-1979</td>\n",
       "      <td>0.000165</td>\n",
       "      <td>0.172133</td>\n",
       "      <td>0.999233</td>\n",
       "      <td>0.000961</td>\n",
       "    </tr>\n",
       "    <tr>\n",
       "      <th>2</th>\n",
       "      <td>1980-1989</td>\n",
       "      <td>0.140867</td>\n",
       "      <td>0.065704</td>\n",
       "      <td>2.143982</td>\n",
       "      <td>0.032034</td>\n",
       "      <td>1980-1989</td>\n",
       "      <td>0.140867</td>\n",
       "      <td>0.065395</td>\n",
       "      <td>0.031275</td>\n",
       "      <td>2.154085</td>\n",
       "    </tr>\n",
       "    <tr>\n",
       "      <th>3</th>\n",
       "      <td>1990-1999</td>\n",
       "      <td>0.296859</td>\n",
       "      <td>0.165143</td>\n",
       "      <td>1.797586</td>\n",
       "      <td>0.072243</td>\n",
       "      <td>1990-1999</td>\n",
       "      <td>0.296859</td>\n",
       "      <td>0.164295</td>\n",
       "      <td>0.070837</td>\n",
       "      <td>1.806864</td>\n",
       "    </tr>\n",
       "    <tr>\n",
       "      <th>4</th>\n",
       "      <td>2000-2009</td>\n",
       "      <td>0.571908</td>\n",
       "      <td>0.299590</td>\n",
       "      <td>1.908971</td>\n",
       "      <td>0.056266</td>\n",
       "      <td>2000-2009</td>\n",
       "      <td>0.571908</td>\n",
       "      <td>0.297850</td>\n",
       "      <td>0.054897</td>\n",
       "      <td>1.920121</td>\n",
       "    </tr>\n",
       "    <tr>\n",
       "      <th>5</th>\n",
       "      <td>2010-2019</td>\n",
       "      <td>0.601090</td>\n",
       "      <td>0.862211</td>\n",
       "      <td>0.697150</td>\n",
       "      <td>0.485709</td>\n",
       "      <td>2010-2019</td>\n",
       "      <td>0.601090</td>\n",
       "      <td>0.855946</td>\n",
       "      <td>0.482561</td>\n",
       "      <td>0.702252</td>\n",
       "    </tr>\n",
       "    <tr>\n",
       "      <th>6</th>\n",
       "      <td>2020-2029</td>\n",
       "      <td>-0.573471</td>\n",
       "      <td>0.173415</td>\n",
       "      <td>-3.306929</td>\n",
       "      <td>0.000943</td>\n",
       "      <td>2020-2029</td>\n",
       "      <td>-0.573471</td>\n",
       "      <td>0.172010</td>\n",
       "      <td>0.000864</td>\n",
       "      <td>-3.333946</td>\n",
       "    </tr>\n",
       "  </tbody>\n",
       "</table>\n",
       "</div>"
      ],
      "text/plain": [
       "      cohort      coef        se      tval      pval     cohort  coefficient  \\\n",
       "0  1960-1969  0.056761  0.031125  1.823670  0.068202  1960-1969     0.056761   \n",
       "1  1970-1979  0.000165  0.172848  0.000957  0.999236  1970-1979     0.000165   \n",
       "2  1980-1989  0.140867  0.065704  2.143982  0.032034  1980-1989     0.140867   \n",
       "3  1990-1999  0.296859  0.165143  1.797586  0.072243  1990-1999     0.296859   \n",
       "4  2000-2009  0.571908  0.299590  1.908971  0.056266  2000-2009     0.571908   \n",
       "5  2010-2019  0.601090  0.862211  0.697150  0.485709  2010-2019     0.601090   \n",
       "6  2020-2029 -0.573471  0.173415 -3.306929  0.000943  2020-2029    -0.573471   \n",
       "\n",
       "   standard error   p_value   t_value  \n",
       "0        0.030998  0.067129  1.831161  \n",
       "1        0.172133  0.999233  0.000961  \n",
       "2        0.065395  0.031275  2.154085  \n",
       "3        0.164295  0.070837  1.806864  \n",
       "4        0.297850  0.054897  1.920121  \n",
       "5        0.855946  0.482561  0.702252  \n",
       "6        0.172010  0.000864 -3.333946  "
      ]
     },
     "execution_count": 40,
     "metadata": {},
     "output_type": "execute_result"
    }
   ],
   "source": [
    "side_by_side = pd.DataFrame(pd.concat([custom_summary, panel_summary], axis=1))\n",
    "side_by_side"
   ]
  },
  {
   "cell_type": "markdown",
   "id": "1f4ff8fa-b577-4272-92ab-5dff99f6aeb2",
   "metadata": {},
   "source": [
    "## Summary\n",
    "\n",
    "Staggered DiD regressions per cohort revealed statistically significant effects for two cohorts: \n",
    "1) **1960-1969** - coef: 0.25 (pval 0.02)\n",
    "2) **1970-1979** - coef: 0.20 (pval 0.06)\n",
    "\n",
    "Gini values have been previously inverted to improve interpretability. Normally, high Gini values indicate high levels of inequality. Thus, a positive coefficient corresponds to a decrease in Gini values, and a decrease in wealth inequality.\n",
    "\n",
    "Unfortunately, staggered cohorts require assigning a 'Treatment Year' per cohort, which is the mode of the treatment years in that cohort. By definition, benchmarking to the mode year will capture most of the treatment years in the cohort. However, this will also contaminate data, which does not have the mode treatment year.\n",
    "\n",
    "Binning cohorts in the case of my dataset was a preliminary step. "
   ]
  },
  {
   "cell_type": "markdown",
   "id": "54e699eb-4874-4b27-abae-8c905dddc51d",
   "metadata": {},
   "source": [
    "# Event Study - Manual ATT\n",
    "\n",
    "I calculate the average treatment effect on the treated (ATT) manually and directly, with boostrapped CI's, for full visibility. "
   ]
  },
  {
   "cell_type": "code",
   "execution_count": 37,
   "id": "d75c4cd2-a080-4357-af28-3d3a674f0008",
   "metadata": {},
   "outputs": [],
   "source": [
    "# copy mstr df and create relative year column\n",
    "\n",
    "df_es = df_mstr.copy()\n",
    "\n",
    "# create a \"relative year\" column for observations and bin the tails\n",
    "\n",
    "df_es['rel_year'] = (df_es['Year'] - df_es['Treatment Year'])\n"
   ]
  },
  {
   "cell_type": "code",
   "execution_count": 38,
   "id": "42a314c7-72b0-4020-8cba-56c6e6fc6cf3",
   "metadata": {},
   "outputs": [
    {
     "data": {
      "text/plain": [
       "1960    62\n",
       "1961    62\n",
       "1962    62\n",
       "1963    62\n",
       "1964    62\n",
       "        ..\n",
       "2019    62\n",
       "2020    62\n",
       "2021    62\n",
       "2022    62\n",
       "2023    62\n",
       "Name: Year, Length: 64, dtype: int64"
      ]
     },
     "execution_count": 38,
     "metadata": {},
     "output_type": "execute_result"
    }
   ],
   "source": [
    "df_es['Year'].value_counts().sort_index()"
   ]
  },
  {
   "cell_type": "code",
   "execution_count": 39,
   "id": "2d5eb2ca-eef2-481e-a427-bea4f8cc1c00",
   "metadata": {},
   "outputs": [],
   "source": [
    "# plot ATT per e\n",
    "\n",
    "cell_dict = []\n",
    "countries = viable_countries_filtered.index\n",
    "\n",
    "for country in countries:\n",
    "    # treatment year\n",
    "    Gi = df_es.loc[df_es['Country']==country, 'Treatment Year'].iat[0]\n",
    "    \n",
    "    # e = -1 (baseline year)\n",
    "    t_0 = Gi - 1\n",
    "    \n",
    "    treated_t0_mask = ((df_es['Treatment']==1) & (df_es['Country']==country) & (df_es['Year']==t_0))\n",
    "        \n",
    "    treated_t0 = df_es.loc[treated_t0_mask, 'Gini_recon_hybrid'].iat[0]\n",
    "    \n",
    "    control_t0_mask = (\n",
    "            (df_es['Year']==t_0) &\n",
    "            ((df_es['Treatment']==0) | ((df_es['Treatment']==1) & (df_es['Treatment Year'] > t_0))) &\n",
    "            (df_es['Country']!= country) &\n",
    "            (df_es['Treatment Year']!= Gi)\n",
    "        )\n",
    "    \n",
    "    \n",
    "    s_t0 = df_es.loc[control_t0_mask, 'Gini_recon_hybrid']\n",
    "    control_t0 = s_t0.mean() if s_t0.notna().any() else np.nan\n",
    "        \n",
    "\n",
    "    # event time list\n",
    "    e_list = list(df_es.loc[df_es['Country']==country, 'rel_year'])\n",
    "\n",
    "    \n",
    "    for e in e_list:\n",
    "        # event time (calendar year at e)\n",
    "        t_i = df_es.loc[((df_es['Country']==country) & (df_es['rel_year']==e)), 'Year'].iat[0]\n",
    "\n",
    "        \n",
    "        # gini value at calendar year at e\n",
    "        treated_ti_mask = ((df_es['Treatment']==1) & (df_es['Country']==country) & (df_es['Year']==t_i))\n",
    "        \n",
    "        treated_ti = df_es.loc[treated_ti_mask, 'Gini_recon_hybrid'].iat[0]\n",
    "        \n",
    "        # calendar time mask\n",
    "        control_ti_mask = (\n",
    "            (df_es['Year'] == t_i) &\n",
    "            ((df_es['Treatment'] == 0) | ((df_es['Treatment'] == 1) & (df_es['Treatment Year'] > t_i))) &\n",
    "            (df_es['Country'] != country)  &\n",
    "            (df_es['Treatment Year'] != Gi)\n",
    "        )\n",
    "        \n",
    "            \n",
    "#         # purge control_ti of any years where mask is empty  \n",
    "        s_ti = df_es.loc[control_ti_mask, 'Gini_recon_hybrid']\n",
    "        control_ti = s_ti.mean() if s_ti.notna().any() else np.nan\n",
    "        \n",
    "        #print(e, control_ti)\n",
    "        \n",
    "        \n",
    "        # # store results\n",
    "        cell_dict.append({\n",
    "            'country': country,\n",
    "            'event_time_i': e,\n",
    "            'treatment_year': Gi,\n",
    "            'calendar_year(ti)': t_i,\n",
    "            'treated_ti': treated_ti,\n",
    "            'treated_t0': treated_t0,\n",
    "            'control_ti': control_ti,\n",
    "            'control_t0': control_t0\n",
    "        })\n"
   ]
  },
  {
   "cell_type": "code",
   "execution_count": 40,
   "id": "b44ea486-b8e9-4ea1-b69f-c9cb7585ec09",
   "metadata": {},
   "outputs": [
    {
     "data": {
      "text/html": [
       "<div>\n",
       "<style scoped>\n",
       "    .dataframe tbody tr th:only-of-type {\n",
       "        vertical-align: middle;\n",
       "    }\n",
       "\n",
       "    .dataframe tbody tr th {\n",
       "        vertical-align: top;\n",
       "    }\n",
       "\n",
       "    .dataframe thead th {\n",
       "        text-align: right;\n",
       "    }\n",
       "</style>\n",
       "<table border=\"1\" class=\"dataframe\">\n",
       "  <thead>\n",
       "    <tr style=\"text-align: right;\">\n",
       "      <th></th>\n",
       "      <th>country</th>\n",
       "      <th>event_time_i</th>\n",
       "      <th>treatment_year</th>\n",
       "      <th>calendar_year(ti)</th>\n",
       "      <th>treated_ti</th>\n",
       "      <th>treated_t0</th>\n",
       "      <th>control_ti</th>\n",
       "      <th>control_t0</th>\n",
       "    </tr>\n",
       "  </thead>\n",
       "  <tbody>\n",
       "    <tr>\n",
       "      <th>0</th>\n",
       "      <td>Argentina</td>\n",
       "      <td>-56.0</td>\n",
       "      <td>2016.0</td>\n",
       "      <td>1960</td>\n",
       "      <td>54.347031</td>\n",
       "      <td>55.388731</td>\n",
       "      <td>61.001315</td>\n",
       "      <td>64.008739</td>\n",
       "    </tr>\n",
       "    <tr>\n",
       "      <th>1</th>\n",
       "      <td>Argentina</td>\n",
       "      <td>-55.0</td>\n",
       "      <td>2016.0</td>\n",
       "      <td>1961</td>\n",
       "      <td>54.347031</td>\n",
       "      <td>55.388731</td>\n",
       "      <td>61.001315</td>\n",
       "      <td>64.008739</td>\n",
       "    </tr>\n",
       "    <tr>\n",
       "      <th>2</th>\n",
       "      <td>Argentina</td>\n",
       "      <td>-54.0</td>\n",
       "      <td>2016.0</td>\n",
       "      <td>1962</td>\n",
       "      <td>54.347031</td>\n",
       "      <td>55.388731</td>\n",
       "      <td>61.001315</td>\n",
       "      <td>64.008739</td>\n",
       "    </tr>\n",
       "    <tr>\n",
       "      <th>3</th>\n",
       "      <td>Argentina</td>\n",
       "      <td>-53.0</td>\n",
       "      <td>2016.0</td>\n",
       "      <td>1963</td>\n",
       "      <td>54.373400</td>\n",
       "      <td>55.388731</td>\n",
       "      <td>61.028109</td>\n",
       "      <td>64.008739</td>\n",
       "    </tr>\n",
       "    <tr>\n",
       "      <th>4</th>\n",
       "      <td>Argentina</td>\n",
       "      <td>-52.0</td>\n",
       "      <td>2016.0</td>\n",
       "      <td>1964</td>\n",
       "      <td>54.360914</td>\n",
       "      <td>55.388731</td>\n",
       "      <td>61.015423</td>\n",
       "      <td>64.008739</td>\n",
       "    </tr>\n",
       "    <tr>\n",
       "      <th>...</th>\n",
       "      <td>...</td>\n",
       "      <td>...</td>\n",
       "      <td>...</td>\n",
       "      <td>...</td>\n",
       "      <td>...</td>\n",
       "      <td>...</td>\n",
       "      <td>...</td>\n",
       "      <td>...</td>\n",
       "    </tr>\n",
       "    <tr>\n",
       "      <th>3963</th>\n",
       "      <td>Zimbabwe</td>\n",
       "      <td>32.0</td>\n",
       "      <td>1987.0</td>\n",
       "      <td>2019</td>\n",
       "      <td>49.700000</td>\n",
       "      <td>54.378446</td>\n",
       "      <td>64.010282</td>\n",
       "      <td>59.783476</td>\n",
       "    </tr>\n",
       "    <tr>\n",
       "      <th>3964</th>\n",
       "      <td>Zimbabwe</td>\n",
       "      <td>33.0</td>\n",
       "      <td>1987.0</td>\n",
       "      <td>2020</td>\n",
       "      <td>53.866062</td>\n",
       "      <td>54.378446</td>\n",
       "      <td>65.415366</td>\n",
       "      <td>59.783476</td>\n",
       "    </tr>\n",
       "    <tr>\n",
       "      <th>3965</th>\n",
       "      <td>Zimbabwe</td>\n",
       "      <td>34.0</td>\n",
       "      <td>1987.0</td>\n",
       "      <td>2021</td>\n",
       "      <td>54.280660</td>\n",
       "      <td>54.378446</td>\n",
       "      <td>NaN</td>\n",
       "      <td>59.783476</td>\n",
       "    </tr>\n",
       "    <tr>\n",
       "      <th>3966</th>\n",
       "      <td>Zimbabwe</td>\n",
       "      <td>35.0</td>\n",
       "      <td>1987.0</td>\n",
       "      <td>2022</td>\n",
       "      <td>54.079433</td>\n",
       "      <td>54.378446</td>\n",
       "      <td>NaN</td>\n",
       "      <td>59.783476</td>\n",
       "    </tr>\n",
       "    <tr>\n",
       "      <th>3967</th>\n",
       "      <td>Zimbabwe</td>\n",
       "      <td>36.0</td>\n",
       "      <td>1987.0</td>\n",
       "      <td>2023</td>\n",
       "      <td>54.152431</td>\n",
       "      <td>54.378446</td>\n",
       "      <td>NaN</td>\n",
       "      <td>59.783476</td>\n",
       "    </tr>\n",
       "  </tbody>\n",
       "</table>\n",
       "<p>3968 rows × 8 columns</p>\n",
       "</div>"
      ],
      "text/plain": [
       "        country  event_time_i  treatment_year  calendar_year(ti)  treated_ti  \\\n",
       "0     Argentina         -56.0          2016.0               1960   54.347031   \n",
       "1     Argentina         -55.0          2016.0               1961   54.347031   \n",
       "2     Argentina         -54.0          2016.0               1962   54.347031   \n",
       "3     Argentina         -53.0          2016.0               1963   54.373400   \n",
       "4     Argentina         -52.0          2016.0               1964   54.360914   \n",
       "...         ...           ...             ...                ...         ...   \n",
       "3963   Zimbabwe          32.0          1987.0               2019   49.700000   \n",
       "3964   Zimbabwe          33.0          1987.0               2020   53.866062   \n",
       "3965   Zimbabwe          34.0          1987.0               2021   54.280660   \n",
       "3966   Zimbabwe          35.0          1987.0               2022   54.079433   \n",
       "3967   Zimbabwe          36.0          1987.0               2023   54.152431   \n",
       "\n",
       "      treated_t0  control_ti  control_t0  \n",
       "0      55.388731   61.001315   64.008739  \n",
       "1      55.388731   61.001315   64.008739  \n",
       "2      55.388731   61.001315   64.008739  \n",
       "3      55.388731   61.028109   64.008739  \n",
       "4      55.388731   61.015423   64.008739  \n",
       "...          ...         ...         ...  \n",
       "3963   54.378446   64.010282   59.783476  \n",
       "3964   54.378446   65.415366   59.783476  \n",
       "3965   54.378446         NaN   59.783476  \n",
       "3966   54.378446         NaN   59.783476  \n",
       "3967   54.378446         NaN   59.783476  \n",
       "\n",
       "[3968 rows x 8 columns]"
      ]
     },
     "execution_count": 40,
     "metadata": {},
     "output_type": "execute_result"
    }
   ],
   "source": [
    "# save results in a dataframe\n",
    "\n",
    "cell_df = pd.DataFrame(cell_dict)\n",
    "\n",
    "cell_df"
   ]
  },
  {
   "cell_type": "code",
   "execution_count": 41,
   "id": "7faadabe-1393-4016-b4c4-45d18c34d066",
   "metadata": {},
   "outputs": [],
   "source": [
    "# create an ATT column in cell_df\n",
    "\n",
    "ATT = (cell_df['treated_ti'] - cell_df['treated_t0']) - (cell_df['control_ti'] - cell_df['control_t0'])\n",
    "\n",
    " \n",
    "cell_df['ATT'] = ATT\n",
    "\n",
    "# create a binned event time column\n",
    "\n",
    "cell_df['event_time_binned'] = cell_df['event_time_i'].clip(-5, 5)"
   ]
  },
  {
   "cell_type": "code",
   "execution_count": 42,
   "id": "1ab11ff3-a797-4bab-9fee-cb293b4b3a06",
   "metadata": {},
   "outputs": [
    {
     "data": {
      "text/html": [
       "<div>\n",
       "<style scoped>\n",
       "    .dataframe tbody tr th:only-of-type {\n",
       "        vertical-align: middle;\n",
       "    }\n",
       "\n",
       "    .dataframe tbody tr th {\n",
       "        vertical-align: top;\n",
       "    }\n",
       "\n",
       "    .dataframe thead th {\n",
       "        text-align: right;\n",
       "    }\n",
       "</style>\n",
       "<table border=\"1\" class=\"dataframe\">\n",
       "  <thead>\n",
       "    <tr style=\"text-align: right;\">\n",
       "      <th></th>\n",
       "      <th>event_time_binned</th>\n",
       "      <th>cell_mean</th>\n",
       "      <th>n_cells</th>\n",
       "    </tr>\n",
       "  </thead>\n",
       "  <tbody>\n",
       "    <tr>\n",
       "      <th>0</th>\n",
       "      <td>-5.0</td>\n",
       "      <td>0.581526</td>\n",
       "      <td>1867</td>\n",
       "    </tr>\n",
       "    <tr>\n",
       "      <th>1</th>\n",
       "      <td>-4.0</td>\n",
       "      <td>0.145959</td>\n",
       "      <td>62</td>\n",
       "    </tr>\n",
       "    <tr>\n",
       "      <th>2</th>\n",
       "      <td>-3.0</td>\n",
       "      <td>0.345137</td>\n",
       "      <td>62</td>\n",
       "    </tr>\n",
       "    <tr>\n",
       "      <th>3</th>\n",
       "      <td>-2.0</td>\n",
       "      <td>0.013533</td>\n",
       "      <td>62</td>\n",
       "    </tr>\n",
       "    <tr>\n",
       "      <th>4</th>\n",
       "      <td>-1.0</td>\n",
       "      <td>0.000000</td>\n",
       "      <td>62</td>\n",
       "    </tr>\n",
       "  </tbody>\n",
       "</table>\n",
       "</div>"
      ],
      "text/plain": [
       "   event_time_binned  cell_mean  n_cells\n",
       "0               -5.0   0.581526     1867\n",
       "1               -4.0   0.145959       62\n",
       "2               -3.0   0.345137       62\n",
       "3               -2.0   0.013533       62\n",
       "4               -1.0   0.000000       62"
      ]
     },
     "execution_count": 42,
     "metadata": {},
     "output_type": "execute_result"
    }
   ],
   "source": [
    "# average over e\n",
    "\n",
    "event_time_att = (\n",
    "    cell_df.groupby('event_time_binned', as_index=False)\n",
    "    .agg(\n",
    "        cell_mean=('ATT', 'mean'),\n",
    "        n_cells = ('ATT', 'size')\n",
    "    ).dropna()\n",
    ")\n",
    "    \n",
    "event_time_att.head()\n"
   ]
  },
  {
   "cell_type": "code",
   "execution_count": 43,
   "id": "3949db7a-5e9f-44bd-b090-269f7c4dcb4a",
   "metadata": {},
   "outputs": [
    {
     "data": {
      "text/html": [
       "<div>\n",
       "<style scoped>\n",
       "    .dataframe tbody tr th:only-of-type {\n",
       "        vertical-align: middle;\n",
       "    }\n",
       "\n",
       "    .dataframe tbody tr th {\n",
       "        vertical-align: top;\n",
       "    }\n",
       "\n",
       "    .dataframe thead th {\n",
       "        text-align: right;\n",
       "    }\n",
       "</style>\n",
       "<table border=\"1\" class=\"dataframe\">\n",
       "  <thead>\n",
       "    <tr style=\"text-align: right;\">\n",
       "      <th></th>\n",
       "      <th>country</th>\n",
       "      <th>event_time_i</th>\n",
       "      <th>treatment_year</th>\n",
       "      <th>calendar_year(ti)</th>\n",
       "      <th>treated_ti</th>\n",
       "      <th>treated_t0</th>\n",
       "      <th>control_ti</th>\n",
       "      <th>control_t0</th>\n",
       "      <th>ATT</th>\n",
       "      <th>event_time_binned</th>\n",
       "    </tr>\n",
       "  </thead>\n",
       "  <tbody>\n",
       "    <tr>\n",
       "      <th>0</th>\n",
       "      <td>Argentina</td>\n",
       "      <td>-56.0</td>\n",
       "      <td>2016.0</td>\n",
       "      <td>1960</td>\n",
       "      <td>54.347031</td>\n",
       "      <td>55.388731</td>\n",
       "      <td>61.001315</td>\n",
       "      <td>64.008739</td>\n",
       "      <td>1.965724</td>\n",
       "      <td>-5.0</td>\n",
       "    </tr>\n",
       "    <tr>\n",
       "      <th>1</th>\n",
       "      <td>Argentina</td>\n",
       "      <td>-55.0</td>\n",
       "      <td>2016.0</td>\n",
       "      <td>1961</td>\n",
       "      <td>54.347031</td>\n",
       "      <td>55.388731</td>\n",
       "      <td>61.001315</td>\n",
       "      <td>64.008739</td>\n",
       "      <td>1.965724</td>\n",
       "      <td>-5.0</td>\n",
       "    </tr>\n",
       "    <tr>\n",
       "      <th>2</th>\n",
       "      <td>Argentina</td>\n",
       "      <td>-54.0</td>\n",
       "      <td>2016.0</td>\n",
       "      <td>1962</td>\n",
       "      <td>54.347031</td>\n",
       "      <td>55.388731</td>\n",
       "      <td>61.001315</td>\n",
       "      <td>64.008739</td>\n",
       "      <td>1.965724</td>\n",
       "      <td>-5.0</td>\n",
       "    </tr>\n",
       "    <tr>\n",
       "      <th>3</th>\n",
       "      <td>Argentina</td>\n",
       "      <td>-53.0</td>\n",
       "      <td>2016.0</td>\n",
       "      <td>1963</td>\n",
       "      <td>54.373400</td>\n",
       "      <td>55.388731</td>\n",
       "      <td>61.028109</td>\n",
       "      <td>64.008739</td>\n",
       "      <td>1.965299</td>\n",
       "      <td>-5.0</td>\n",
       "    </tr>\n",
       "    <tr>\n",
       "      <th>4</th>\n",
       "      <td>Argentina</td>\n",
       "      <td>-52.0</td>\n",
       "      <td>2016.0</td>\n",
       "      <td>1964</td>\n",
       "      <td>54.360914</td>\n",
       "      <td>55.388731</td>\n",
       "      <td>61.015423</td>\n",
       "      <td>64.008739</td>\n",
       "      <td>1.965499</td>\n",
       "      <td>-5.0</td>\n",
       "    </tr>\n",
       "  </tbody>\n",
       "</table>\n",
       "</div>"
      ],
      "text/plain": [
       "     country  event_time_i  treatment_year  calendar_year(ti)  treated_ti  \\\n",
       "0  Argentina         -56.0          2016.0               1960   54.347031   \n",
       "1  Argentina         -55.0          2016.0               1961   54.347031   \n",
       "2  Argentina         -54.0          2016.0               1962   54.347031   \n",
       "3  Argentina         -53.0          2016.0               1963   54.373400   \n",
       "4  Argentina         -52.0          2016.0               1964   54.360914   \n",
       "\n",
       "   treated_t0  control_ti  control_t0       ATT  event_time_binned  \n",
       "0   55.388731   61.001315   64.008739  1.965724               -5.0  \n",
       "1   55.388731   61.001315   64.008739  1.965724               -5.0  \n",
       "2   55.388731   61.001315   64.008739  1.965724               -5.0  \n",
       "3   55.388731   61.028109   64.008739  1.965299               -5.0  \n",
       "4   55.388731   61.015423   64.008739  1.965499               -5.0  "
      ]
     },
     "execution_count": 43,
     "metadata": {},
     "output_type": "execute_result"
    }
   ],
   "source": [
    "cell_df.head()"
   ]
  },
  {
   "cell_type": "code",
   "execution_count": 44,
   "id": "de7550b5-1344-4e34-80d3-49f779369342",
   "metadata": {},
   "outputs": [
    {
     "data": {
      "text/html": [
       "<div>\n",
       "<style scoped>\n",
       "    .dataframe tbody tr th:only-of-type {\n",
       "        vertical-align: middle;\n",
       "    }\n",
       "\n",
       "    .dataframe tbody tr th {\n",
       "        vertical-align: top;\n",
       "    }\n",
       "\n",
       "    .dataframe thead th {\n",
       "        text-align: right;\n",
       "    }\n",
       "</style>\n",
       "<table border=\"1\" class=\"dataframe\">\n",
       "  <thead>\n",
       "    <tr style=\"text-align: right;\">\n",
       "      <th></th>\n",
       "      <th>e</th>\n",
       "      <th>ci_low</th>\n",
       "      <th>ci_high</th>\n",
       "    </tr>\n",
       "  </thead>\n",
       "  <tbody>\n",
       "    <tr>\n",
       "      <th>0</th>\n",
       "      <td>-5.0</td>\n",
       "      <td>-0.137520</td>\n",
       "      <td>1.253692</td>\n",
       "    </tr>\n",
       "    <tr>\n",
       "      <th>1</th>\n",
       "      <td>-4.0</td>\n",
       "      <td>-0.272967</td>\n",
       "      <td>0.574686</td>\n",
       "    </tr>\n",
       "    <tr>\n",
       "      <th>2</th>\n",
       "      <td>-3.0</td>\n",
       "      <td>-0.072923</td>\n",
       "      <td>0.838123</td>\n",
       "    </tr>\n",
       "    <tr>\n",
       "      <th>3</th>\n",
       "      <td>-2.0</td>\n",
       "      <td>-0.545506</td>\n",
       "      <td>0.541503</td>\n",
       "    </tr>\n",
       "    <tr>\n",
       "      <th>4</th>\n",
       "      <td>-1.0</td>\n",
       "      <td>0.000000</td>\n",
       "      <td>0.000000</td>\n",
       "    </tr>\n",
       "    <tr>\n",
       "      <th>5</th>\n",
       "      <td>0.0</td>\n",
       "      <td>-0.446196</td>\n",
       "      <td>0.501620</td>\n",
       "    </tr>\n",
       "    <tr>\n",
       "      <th>6</th>\n",
       "      <td>1.0</td>\n",
       "      <td>-0.182967</td>\n",
       "      <td>0.726865</td>\n",
       "    </tr>\n",
       "    <tr>\n",
       "      <th>7</th>\n",
       "      <td>2.0</td>\n",
       "      <td>-0.437020</td>\n",
       "      <td>0.658297</td>\n",
       "    </tr>\n",
       "    <tr>\n",
       "      <th>8</th>\n",
       "      <td>3.0</td>\n",
       "      <td>-0.454344</td>\n",
       "      <td>0.841674</td>\n",
       "    </tr>\n",
       "    <tr>\n",
       "      <th>9</th>\n",
       "      <td>4.0</td>\n",
       "      <td>-0.613348</td>\n",
       "      <td>0.621381</td>\n",
       "    </tr>\n",
       "    <tr>\n",
       "      <th>10</th>\n",
       "      <td>5.0</td>\n",
       "      <td>-0.956845</td>\n",
       "      <td>-0.201496</td>\n",
       "    </tr>\n",
       "  </tbody>\n",
       "</table>\n",
       "</div>"
      ],
      "text/plain": [
       "      e    ci_low   ci_high\n",
       "0  -5.0 -0.137520  1.253692\n",
       "1  -4.0 -0.272967  0.574686\n",
       "2  -3.0 -0.072923  0.838123\n",
       "3  -2.0 -0.545506  0.541503\n",
       "4  -1.0  0.000000  0.000000\n",
       "5   0.0 -0.446196  0.501620\n",
       "6   1.0 -0.182967  0.726865\n",
       "7   2.0 -0.437020  0.658297\n",
       "8   3.0 -0.454344  0.841674\n",
       "9   4.0 -0.613348  0.621381\n",
       "10  5.0 -0.956845 -0.201496"
      ]
     },
     "execution_count": 44,
     "metadata": {},
     "output_type": "execute_result"
    }
   ],
   "source": [
    "# bootstrap confidence intervals for plot\n",
    "\n",
    "n_draws = 500\n",
    "rng = np.random.default_rng(21) #in lieu of np.random.seed()\n",
    "\n",
    "countries = cell_df['country'].dropna().unique()\n",
    "\n",
    "draws = []\n",
    "\n",
    "\n",
    "for n in range(n_draws):\n",
    "    sample = rng.choice(countries, size=len(countries), replace=True)\n",
    "    w = pd.Series(sample).value_counts().rename('w')\n",
    "    \n",
    "    wsub = cell_df.merge(w, left_on='country', right_index=True, how='inner')\n",
    "    \n",
    "\n",
    "    wsub['w_ATT'] = wsub['ATT'] * wsub['w']\n",
    "    \n",
    "\n",
    "    \n",
    "    # 500 sets of ATT numbers, based on random country selections\n",
    "    # For each set, for each e, calculate weighted average ATT\n",
    "    bootstrap_att = (\n",
    "        wsub.dropna(subset=['ATT'])\n",
    "        .groupby('event_time_binned', as_index=False)\n",
    "        .agg(weighted_sum = ('w_ATT', 'sum'),\n",
    "            w_total = ('w', 'sum'))\n",
    "        .assign(wavg_ATT = lambda x: x['weighted_sum']/x['w_total'],\n",
    "               draw = n)\n",
    "    )\n",
    "    \n",
    "    # amass average ATT in lists per e\n",
    "    for e, att, draw in bootstrap_att[['event_time_binned', 'wavg_ATT', 'draw']].itertuples(index=False):\n",
    "        draws.append({\n",
    "            'e': e, 'weighted_avg_att': att, 'draw': draw\n",
    "        })\n",
    "    \n",
    "    draws_df = pd.DataFrame(draws) \n",
    "\n",
    "    ci = (\n",
    "        draws_df.groupby('e')['weighted_avg_att']\n",
    "        .quantile([0.025, 0.975])\n",
    "        .unstack()\n",
    "        .rename(columns={0.025:'ci_low', 0.975:'ci_high'})\n",
    "        .reset_index()\n",
    "    )\n",
    "    \n",
    "ci\n"
   ]
  },
  {
   "cell_type": "code",
   "execution_count": 45,
   "id": "9ecde90a-29b9-4607-8f00-909f48bbe848",
   "metadata": {},
   "outputs": [
    {
     "data": {
      "image/png": "[encoded data removed]",
      "text/plain": [
       "<Figure size 640x480 with 1 Axes>"
      ]
     },
     "metadata": {},
     "output_type": "display_data"
    }
   ],
   "source": [
    "# plot ATT in Event Time\n",
    "\n",
    "fig, ax = plt.subplots()\n",
    "\n",
    "x_axis = event_time_att['event_time_binned']\n",
    "y_axis = event_time_att['cell_mean']\n",
    "\n",
    "plt.axvline(-1, linestyle='--')\n",
    "plt.axhline(0, linestyle='--')\n",
    "\n",
    "plt.plot(x_axis, y_axis)\n",
    "\n",
    "#ci\n",
    "x_axis_b = ci['e']\n",
    "plt.fill_between(x_axis_b, ci['ci_low'], ci['ci_high'], alpha=0.2, label=\"95% CI\")\n",
    "\n",
    "plt.title(\"ATT in Event Time: No-Fault Divorce vs. Gini Coefficient\")\n",
    "plt.show()\n",
    "\n"
   ]
  },
  {
   "cell_type": "markdown",
   "id": "ff049dc5-1415-44e4-a49f-60fdbe38287c",
   "metadata": {},
   "source": [
    "# Event Study with Patsy Contrasts"
   ]
  },
  {
   "cell_type": "code",
   "execution_count": 57,
   "id": "3b6abc9e-668f-42b2-a296-8c95090ef48e",
   "metadata": {},
   "outputs": [
    {
     "data": {
      "text/html": [
       "<div>\n",
       "<style scoped>\n",
       "    .dataframe tbody tr th:only-of-type {\n",
       "        vertical-align: middle;\n",
       "    }\n",
       "\n",
       "    .dataframe tbody tr th {\n",
       "        vertical-align: top;\n",
       "    }\n",
       "\n",
       "    .dataframe thead th {\n",
       "        text-align: right;\n",
       "    }\n",
       "</style>\n",
       "<table border=\"1\" class=\"dataframe\">\n",
       "  <thead>\n",
       "    <tr style=\"text-align: right;\">\n",
       "      <th></th>\n",
       "      <th>Country Name</th>\n",
       "      <th>Country Code</th>\n",
       "      <th>Year</th>\n",
       "      <th>Gini_recon_hybrid</th>\n",
       "      <th>Gini</th>\n",
       "      <th>Gini_missing</th>\n",
       "      <th>Country</th>\n",
       "      <th>Blame Based</th>\n",
       "      <th>Fault Comment</th>\n",
       "      <th>Irreconcilable Differences</th>\n",
       "      <th>No Fault Comment</th>\n",
       "      <th>Treatment Y/N</th>\n",
       "      <th>Treatment Year</th>\n",
       "      <th>Treatment</th>\n",
       "      <th>Treatment Cohort</th>\n",
       "      <th>OnTreat</th>\n",
       "      <th>rel_year</th>\n",
       "      <th>rel_year_es</th>\n",
       "    </tr>\n",
       "  </thead>\n",
       "  <tbody>\n",
       "  </tbody>\n",
       "</table>\n",
       "</div>"
      ],
      "text/plain": [
       "Empty DataFrame\n",
       "Columns: [Country Name, Country Code, Year, Gini_recon_hybrid, Gini, Gini_missing, Country, Blame Based, Fault Comment, Irreconcilable Differences, No Fault Comment, Treatment Y/N, Treatment Year, Treatment, Treatment Cohort, OnTreat, rel_year, rel_year_es]\n",
       "Index: []"
      ]
     },
     "execution_count": 57,
     "metadata": {},
     "output_type": "execute_result"
    }
   ],
   "source": [
    "# create new rel_year column and assign -1 value to NaN rows in rel_year (baseline)\n",
    "\n",
    "df_es['rel_year_es'] = df_es['rel_year'].fillna(-1)\n",
    "df_es[df_es['Treatment']==0]"
   ]
  },
  {
   "cell_type": "code",
   "execution_count": null,
   "id": "73bbd812-158e-4a4f-9330-7977e0c1581f",
   "metadata": {},
   "outputs": [],
   "source": [
    "# \n",
    "\n",
    "Y = \"Gini_recon_hybrid\"\n",
    "\n",
    "# use rel_year_es instead of OnTreat\n",
    "formula = f\"{Y} ~ C(rel_year_es, Treatment(reference=-1)) + C(Country) + C(Year)\"\n",
    "\n",
    "results = smf.ols(formula=formula, data=df_es).fit(\n",
    "    cov_type = 'cluster',\n",
    "    cov_kwds = {\"groups\":df_es['Country']}\n",
    ")"
   ]
  },
  {
   "cell_type": "code",
   "execution_count": null,
   "id": "90610491-12bc-4914-b809-01fa0f4b5d47",
   "metadata": {},
   "outputs": [],
   "source": [
    "# event study plot\n",
    "\n",
    "coefs = results.params.filter(like='rel_year_es')\n",
    "ses = results.bse.filter(like='rel_year_es')\n",
    "\n",
    "coefs_names = [int(float(s.split(\"T.\")[1].rstrip(']'))) for s in coefs.index]\n",
    "\n",
    "event_df = pd.DataFrame({\n",
    "    'Relative Time': coefs_names,\n",
    "    'Coefficient':coefs.values,\n",
    "    'Standard Error':ses.values\n",
    "})\n",
    "\n",
    "event_df = event_df.sort_values(by='Relative Time', ascending=True)\n",
    "\n",
    "event_df\n",
    "\n",
    "# # plot the results\n",
    "\n",
    "fig, ax = plt.subplots()\n",
    "plt.axhline(0, linestyle='--')\n",
    "plt.axvline(0, linestyle=':')\n",
    "\n",
    "plt.errorbar(\n",
    "    x = event_df['Relative Time'], y = event_df['Coefficient'], yerr=1.96*event_df['Standard Error'],\n",
    "    fmt='o', capsize=3\n",
    ")\n",
    "plt.xlabel('Years Relative to Treatment')\n",
    "plt.ylabel('Effect')\n",
    "plt.title(\"Event Study\")\n",
    "plt.xticks(rotation=45)\n",
    "plt.tight_layout()\n",
    "plt.show()"
   ]
  },
  {
   "cell_type": "code",
   "execution_count": null,
   "id": "a876eed8-15eb-4344-8600-c1061ab51a0f",
   "metadata": {},
   "outputs": [],
   "source": []
  },
  {
   "cell_type": "code",
   "execution_count": 50,
   "id": "2747d2b5-fec0-4b57-bf7a-3210882fc0bf",
   "metadata": {},
   "outputs": [],
   "source": [
    "# repeat with different bin mapping\n",
    "# bin mappings meant to improve thin k\n",
    "\n",
    "def bin_rel_year(rel_year):\n",
    "    if pd.isna(rel_year): return np.NaN\n",
    "    if rel_year <= -6: return \"pre_tail\"\n",
    "    elif -5 <= rel_year <= -3: return \"pre_3to5\"\n",
    "    elif rel_year == -2: return \"pre_2\"\n",
    "    elif rel_year == -1: return \"baseline\"\n",
    "    elif 0 <= rel_year <= 2: return \"post_0to2\"\n",
    "    elif 3 <= rel_year <=4: return \"post_3to4\"\n",
    "    elif 5 <= rel_year <=6: return \"post_5to6\"\n",
    "    else: return \"post_tail\""
   ]
  },
  {
   "cell_type": "code",
   "execution_count": 51,
   "id": "adbf2730-ba2c-4ec4-87a9-02ad4aa6c7f1",
   "metadata": {},
   "outputs": [],
   "source": [
    "# create a relative year binned column with bins\n",
    "\n",
    "df_es['rel_year_binned'] = df_es['rel_year'].map(bin_rel_year)"
   ]
  },
  {
   "cell_type": "code",
   "execution_count": 52,
   "id": "b389ebae-d355-44d8-b05d-39f2caf035ea",
   "metadata": {},
   "outputs": [],
   "source": [
    "# create a relative year binned event study column with NaN subsumed under baseline\n",
    "\n",
    "df_es['rel_year_bines'] = np.where(pd.isna(df_es['rel_year_binned']), 'baseline', df_es['rel_year_binned'])"
   ]
  },
  {
   "cell_type": "code",
   "execution_count": 53,
   "id": "d9e5738d-f463-4eaa-8e2b-17dd581c8173",
   "metadata": {},
   "outputs": [
    {
     "data": {
      "text/plain": [
       "baseline     246\n",
       "post_0to2     16\n",
       "post_3to4     10\n",
       "post_5to6     13\n",
       "post_tail    215\n",
       "pre_2          8\n",
       "pre_3to5      15\n",
       "pre_tail     106\n",
       "Name: rel_year_bines, dtype: int64"
      ]
     },
     "execution_count": 53,
     "metadata": {},
     "output_type": "execute_result"
    }
   ],
   "source": [
    "# validate bins\n",
    "df_es['rel_year_bines'].value_counts(dropna=False).sort_index()"
   ]
  },
  {
   "cell_type": "code",
   "execution_count": 60,
   "id": "4cd4895a-1c8c-4d99-bf63-6a3f3af131fb",
   "metadata": {},
   "outputs": [],
   "source": [
    "# try event study with modified bins\n",
    "\n",
    "Y = 'Gini_recon_hybrid'\n",
    "\n",
    "formula = f\"{Y} ~ C(rel_year_bines, CTR(reference='baseline')) + C(Country) + C(Year)\"\n",
    "\n",
    "results = (\n",
    "    smf.ols(formula=formula, data=df_es)\n",
    "    .fit(\n",
    "        cov_type='cluster',\n",
    "        cov_kwds={'groups':df_es['Country']}\n",
    "    )\n",
    ")"
   ]
  },
  {
   "cell_type": "code",
   "execution_count": 63,
   "id": "930e7d04-0852-41d0-aa40-4fabfbceacdf",
   "metadata": {},
   "outputs": [
    {
     "data": {
      "text/plain": [
       "C(rel_year_bines, CTR(reference='baseline'))[T.post_0to2]    0.441032\n",
       "C(rel_year_bines, CTR(reference='baseline'))[T.post_3to4]    0.562225\n",
       "C(rel_year_bines, CTR(reference='baseline'))[T.post_5to6]    0.264291\n",
       "C(rel_year_bines, CTR(reference='baseline'))[T.post_tail]    0.030002\n",
       "C(rel_year_bines, CTR(reference='baseline'))[T.pre_2]        0.708259\n",
       "C(rel_year_bines, CTR(reference='baseline'))[T.pre_3to5]     0.887089\n",
       "C(rel_year_bines, CTR(reference='baseline'))[T.pre_tail]     0.373083\n",
       "dtype: float64"
      ]
     },
     "execution_count": 63,
     "metadata": {},
     "output_type": "execute_result"
    }
   ],
   "source": [
    "#results.params.filter(like='rel_year_bines')\n",
    "results.pvalues.filter(like='rel_year_bines')"
   ]
  },
  {
   "cell_type": "markdown",
   "id": "5549802c-91ab-4e7d-a654-e7b12a72737b",
   "metadata": {},
   "source": [
    "# Event Study with Manual Dummies"
   ]
  },
  {
   "cell_type": "code",
   "execution_count": null,
   "id": "2dea3957-c438-49d0-baad-e4adcb3393b9",
   "metadata": {},
   "outputs": [],
   "source": []
  },
  {
   "cell_type": "code",
   "execution_count": null,
   "id": "d1fb19f2-c8a8-45dd-932b-32cdfa66c305",
   "metadata": {},
   "outputs": [],
   "source": []
  }
 ],
 "metadata": {
  "kernelspec": {
   "display_name": "Python 3 (ipykernel)",
   "language": "python",
   "name": "python3"
  },
  "language_info": {
   "codemirror_mode": {
    "name": "ipython",
    "version": 3
   },
   "file_extension": ".py",
   "mimetype": "text/x-python",
   "name": "python",
   "nbconvert_exporter": "python",
   "pygments_lexer": "ipython3",
   "version": "3.10.9"
  }
 },
 "nbformat": 4,
 "nbformat_minor": 5
}
