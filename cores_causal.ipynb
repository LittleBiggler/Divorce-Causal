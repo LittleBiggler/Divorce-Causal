{
 "cells": [
  {
   "cell_type": "markdown",
   "id": "6a0a082c-b052-42be-a0a4-3a73d0d3389f",
   "metadata": {},
   "source": [
    "# Imports"
   ]
  },
  {
   "cell_type": "code",
   "execution_count": 1,
   "id": "eb87136e-d404-4575-8082-d6120d8157b0",
   "metadata": {},
   "outputs": [],
   "source": [
    "import pandas as pd\n",
    "import numpy as np\n",
    "import matplotlib.pyplot as plt\n",
    "import seaborn as sns\n",
    "\n",
    "from sklearn.linear_model import LinearRegression\n",
    "\n",
    "# formula api vs. array-based\n",
    "import statsmodels.formula.api as smf\n",
    "\n",
    "# panel OLS for sanity check\n",
    "from linearmodels.panel import PanelOLS\n",
    "\n",
    "# contrasts for sanity check\n",
    "from patsy.contrasts import Treatment as CTR\n",
    "\n",
    "import warnings"
   ]
  },
  {
   "cell_type": "markdown",
   "id": "c367f954-51e1-400d-8ae0-dd3d87e969d0",
   "metadata": {},
   "source": [
    "# Project Summary  \n",
    "\n",
    "This project investigates whether there is a causal relationship between the liberalization of divorce laws, and a country's wealth inequality, as measured by the Gini index. This a broad question, which requires many assumptions in order to prove salient. \n",
    "\n",
    "My data was observational data, which present no clear \"treatment\" time. Rather, each country adopts divorce laws at different times. The only possible approach to analysis is one of the following:\n",
    "1) Analyze each country unto itself only\n",
    "2) Adopt a staggered approach\n",
    "\n",
    "Deploying the second approach—the staggered approach—I used guidance from Baker, Callaway, Cunningham, Goodman-Bacon and Stant'Anna from their 2025 article \"Difference-in-Difference Designs: A Practitioner's Guide\" to design two staggered approaches.\n",
    "\n",
    "**Citation**: Baker, A., Callaway, B., Cunningham, S., Goodman-Bacon, A., & Sant’Anna, P. H. C. (2025). Difference-in-Differences Designs: A Practitioner’s Guide. arXiv. https://doi.org/10.48550/arXiv.2503.13323\n",
    "\n",
    "I use the following two staggered approaches:\n",
    "1) Cohort Approach\n",
    "2) Event Study\n",
    "\n",
    "\n",
    "**Cohort Approach**\n",
    "In the cohort approach, countries are grouped into decade cohorts, based on the decade in which their divorce laws were passed. The \"event time\" for each cohort is artificially set to the mode (the most common passage year in the decade), and a typical two-way-fixed-effects study is conducted per cohort.\n",
    "\n",
    "The main drawback of the cohort approach is that the control is contaminated with treated countries, wherever the mode treatment year is earlier than any given country's actual treatment year. Similarly, the treated post group may be contaminated with untreated countries if the cohort treatment year comes after any given country's actual treatment year. \n",
    "\n",
    "The main advantage of the cohort approach is that we do not take radically different time periods and superimpose them, as if they 1970s are the same in nature as the 1990s.\n",
    "\n",
    "This is the type of phenomenon that moves slowly and messily, and the level of contamination may be acceptible enough. \n",
    "\n",
    "**Event Study Approach**\n",
    "The second stagger-strategy is to evaluate pre and post groups as a relative time distance from the treatment year. This avoids contamination because every country is \"shifted\" such that all event times line up.\n",
    " \n",
    "While avoiding contamination, an event study approach over such a long time frame strains assumptions. In other words, taking an event study approach requires that I compare 1975 to 1995, as if there were no salient differences between those two time periods. \n",
    "\n",
    "**Assessing Significance**\n",
    "\n",
    "Analysis is conducted both with frequentist significance approach (t-test in statsmodels). Potential to examine Bayes Factor approach.\n",
    "\n",
    "\n",
    "\n",
    "Assigning a treatment group was more complicated than it seems. There are gradations of divorce:\n",
    "- Illegal\n",
    "- Legal but requiring proof of fault, such as infidelity, abuse, etc. \"Irreconcilable\" not allowed as reason.\n",
    "- No Fault Lite: Allowing for \"irretrievable breakdown\" or \"irreconcilable differences\" as cited reason, rather than blame, but requiring proof of this status, and/or trial separation periods of varying length\n",
    "- No Fault Mutual: Not requiring proof of status, but requiring mutual agreement for simplified process.\n",
    "- No Fault Unilateral: All that is required is for one party to the marriage to say that it has broken down.\n",
    "\n",
    "For the purposes of this study, we separate the various divorce categories into two main groups:\n",
    "1) Group I: \"irreconcilable differences\" or \"irretrievable breakdown\" not recognized as grounds for divorce, or the process is fundamentally unfair ('favors men')\n",
    "2) Group II: No fault is required, even if demonstrating that 'irreconcilable differences' or 'irretrievable breakdown' has occured\n",
    "\n",
    "Assumptions and implications:\n",
    "1) Assumption PT-GT-all (Parallel Trends for every period and group) ** this is the one we chose\n",
    "2) Assumption PT-GT-Nev (Parallel Trends based on never-treated groups)\n",
    "3) Assumption PT-GT-NYT (Parallel Trends based on not-yet-treated groups)\n"
   ]
  },
  {
   "cell_type": "markdown",
   "id": "c9b4334d-7ac5-49d7-a404-b74947094e46",
   "metadata": {},
   "source": [
    "# Datasets and Dependencies\n",
    "\n",
    "This causal analysis is complimentary to a parallel project, \"Coresidence Analysis\", which can be found in the same repository. For clarity, we refer to the previous predictive analysis as \"CoResidence Analysis\", versus \"CoRes Causal\" for the current project.\n",
    "\n",
    "**Note that Gini values have been inverted to improve interpretability**\n",
    "\n",
    "We heavily imputed CoResidence data to address missing values. In CoResidence Analysis, we pushed the limits of imputation to enable forecasting, which typically requires a balanced panel dataset.\n",
    "\n",
    "In CoRes Causal, no significant amount of data will be imputed. Country weighting will be applied to compensate for countries with many more years of data than others. In the previous analysis, we addressed data imbalance through radical imputation. Not here.In CoRes Causal, no significant amount of data will be imputed. Country weighting will be applied to compensate for countries with many more years of data than others. In the previous analysis, we addressed data imbalance through radical imputation. Not here.\n",
    "\n",
    "CoResidence involved \"central log ratio\" transformation of multiple groups of simplex columns. \n",
    "\n",
    "We kept both transformed and un-transformed columns.\n"
   ]
  },
  {
   "cell_type": "markdown",
   "id": "f262e947-0bf5-4fc5-92d2-ffe587806e67",
   "metadata": {},
   "source": [
    "Citation for Cross Reference\n",
    "\n",
    "Countries Where Divorce Is Illegal 2025. World Population Review. Retrieved June 19, 2025, from https://worldpopulationreview.com/country-rankings/countries-where-divorce-is-illegal\n",
    "\n",
    "Cited sources of citation\n",
    "https://en.wikipedia.org/wiki/Divorce_law_by_country\n",
    "https://www.nytimes.com/2023/11/04/world/asia/philippines-divorce-illegal-legislation.html\n",
    "https://www.respicio.ph/features/guide-to-annulment-in-the-philippines-understanding-the-process-and-grounds-for-marriage-nullification\n"
   ]
  },
  {
   "cell_type": "markdown",
   "id": "5d330f3f-3835-49c8-80c3-a5a7ae478a08",
   "metadata": {},
   "source": [
    "# CoResidence Data\n",
    "\n",
    "CoResidence with all merges and imputed targets\n"
   ]
  },
  {
   "cell_type": "code",
   "execution_count": 2,
   "id": "4d796bf8-8acd-4e38-b784-1ab27e120f76",
   "metadata": {},
   "outputs": [
    {
     "data": {
      "text/plain": [
       "(7808, 159)"
      ]
     },
     "execution_count": 2,
     "metadata": {},
     "output_type": "execute_result"
    }
   ],
   "source": [
    "# read in data\n",
    "\n",
    "df_raw = pd.read_csv('./artifact/cores_full_merge.csv')\n",
    "df_raw.shape"
   ]
  },
  {
   "cell_type": "code",
   "execution_count": 3,
   "id": "439e895f-47e5-471d-85fa-9bd368c92781",
   "metadata": {},
   "outputs": [],
   "source": [
    "df = df_raw.copy()"
   ]
  },
  {
   "cell_type": "code",
   "execution_count": 4,
   "id": "6fb0f470-5d77-4be5-b820-11c586da4050",
   "metadata": {},
   "outputs": [],
   "source": [
    "# take oly the columns neede for gini analysis\n",
    "# potential to include covariates later\n",
    "\n",
    "df = df_raw[['Country Name', 'Country Code', 'Year', 'Gini_recon_hybrid', 'Gini','Gini_missing']]"
   ]
  },
  {
   "cell_type": "code",
   "execution_count": 5,
   "id": "9ae671d2-741a-41cd-82f9-8da32da267a5",
   "metadata": {},
   "outputs": [
    {
     "data": {
      "text/plain": [
       "(7808, 6)"
      ]
     },
     "execution_count": 5,
     "metadata": {},
     "output_type": "execute_result"
    }
   ],
   "source": [
    "df.shape"
   ]
  },
  {
   "cell_type": "markdown",
   "id": "28ff9bc3-783f-495f-a714-f466fb71ea49",
   "metadata": {},
   "source": [
    "# Divorce Data"
   ]
  },
  {
   "cell_type": "code",
   "execution_count": 6,
   "id": "b9b12a73-fc16-4673-a89d-bcf74a49b68f",
   "metadata": {},
   "outputs": [
    {
     "data": {
      "text/html": [
       "<div>\n",
       "<style scoped>\n",
       "    .dataframe tbody tr th:only-of-type {\n",
       "        vertical-align: middle;\n",
       "    }\n",
       "\n",
       "    .dataframe tbody tr th {\n",
       "        vertical-align: top;\n",
       "    }\n",
       "\n",
       "    .dataframe thead th {\n",
       "        text-align: right;\n",
       "    }\n",
       "</style>\n",
       "<table border=\"1\" class=\"dataframe\">\n",
       "  <thead>\n",
       "    <tr style=\"text-align: right;\">\n",
       "      <th></th>\n",
       "      <th>Country</th>\n",
       "      <th>Blame Based</th>\n",
       "      <th>Fault Comment</th>\n",
       "      <th>Irreconcilable Differences</th>\n",
       "      <th>No Fault Comment</th>\n",
       "      <th>Treatment Y/N</th>\n",
       "      <th>Treatment Year</th>\n",
       "      <th>Unnamed: 8</th>\n",
       "      <th>Fault Based</th>\n",
       "      <th>Mutual No Fault</th>\n",
       "      <th>Unilateral No Fault</th>\n",
       "    </tr>\n",
       "  </thead>\n",
       "  <tbody>\n",
       "    <tr>\n",
       "      <th>0</th>\n",
       "      <td>Afghanistan</td>\n",
       "      <td>1977.0</td>\n",
       "      <td>Fault required</td>\n",
       "      <td>NaN</td>\n",
       "      <td>NaN</td>\n",
       "      <td>No</td>\n",
       "      <td>NaN</td>\n",
       "      <td>NaN</td>\n",
       "      <td>NaN</td>\n",
       "      <td>NaN</td>\n",
       "      <td>NaN</td>\n",
       "    </tr>\n",
       "    <tr>\n",
       "      <th>1</th>\n",
       "      <td>Albania</td>\n",
       "      <td>2003.0</td>\n",
       "      <td>Fault required</td>\n",
       "      <td>2013.0</td>\n",
       "      <td>Favors men</td>\n",
       "      <td>No</td>\n",
       "      <td>NaN</td>\n",
       "      <td>NaN</td>\n",
       "      <td>NaN</td>\n",
       "      <td>NaN</td>\n",
       "      <td>NaN</td>\n",
       "    </tr>\n",
       "    <tr>\n",
       "      <th>2</th>\n",
       "      <td>Algeria</td>\n",
       "      <td>1984.0</td>\n",
       "      <td>Fault required</td>\n",
       "      <td>2005.0</td>\n",
       "      <td>Favors men</td>\n",
       "      <td>No</td>\n",
       "      <td>NaN</td>\n",
       "      <td>NaN</td>\n",
       "      <td>NaN</td>\n",
       "      <td>NaN</td>\n",
       "      <td>NaN</td>\n",
       "    </tr>\n",
       "    <tr>\n",
       "      <th>3</th>\n",
       "      <td>Angola</td>\n",
       "      <td>NaN</td>\n",
       "      <td>NaN</td>\n",
       "      <td>1975.0</td>\n",
       "      <td>No fault</td>\n",
       "      <td>Yes</td>\n",
       "      <td>1976.0</td>\n",
       "      <td>NaN</td>\n",
       "      <td>Yes</td>\n",
       "      <td>Yes</td>\n",
       "      <td>One year separation</td>\n",
       "    </tr>\n",
       "    <tr>\n",
       "      <th>4</th>\n",
       "      <td>Argentina</td>\n",
       "      <td>1987.0</td>\n",
       "      <td>Fault required</td>\n",
       "      <td>2015.0</td>\n",
       "      <td>No fault</td>\n",
       "      <td>Yes</td>\n",
       "      <td>2016.0</td>\n",
       "      <td>NaN</td>\n",
       "      <td>No</td>\n",
       "      <td>Yes</td>\n",
       "      <td>Yes</td>\n",
       "    </tr>\n",
       "  </tbody>\n",
       "</table>\n",
       "</div>"
      ],
      "text/plain": [
       "       Country  Blame Based   Fault Comment  Irreconcilable Differences  \\\n",
       "0  Afghanistan       1977.0  Fault required                         NaN   \n",
       "1      Albania       2003.0  Fault required                      2013.0   \n",
       "2      Algeria       1984.0  Fault required                      2005.0   \n",
       "3       Angola          NaN             NaN                      1975.0   \n",
       "4    Argentina       1987.0  Fault required                      2015.0   \n",
       "\n",
       "  No Fault Comment Treatment Y/N  Treatment Year  Unnamed: 8 Fault Based  \\\n",
       "0              NaN            No             NaN         NaN         NaN   \n",
       "1       Favors men            No             NaN         NaN         NaN   \n",
       "2       Favors men            No             NaN         NaN         NaN   \n",
       "3         No fault           Yes          1976.0         NaN         Yes   \n",
       "4         No fault           Yes          2016.0         NaN          No   \n",
       "\n",
       "  Mutual No Fault  Unilateral No Fault  \n",
       "0             NaN                  NaN  \n",
       "1             NaN                  NaN  \n",
       "2             NaN                  NaN  \n",
       "3             Yes  One year separation  \n",
       "4             Yes                  Yes  "
      ]
     },
     "execution_count": 6,
     "metadata": {},
     "output_type": "execute_result"
    }
   ],
   "source": [
    "divorce_data = pd.read_csv('./divorce_table_final.csv', index_col=0)\n",
    "divorce_data.head()"
   ]
  },
  {
   "cell_type": "code",
   "execution_count": 7,
   "id": "c30de511-4be7-46fd-bc3a-e3380fd424d8",
   "metadata": {},
   "outputs": [],
   "source": [
    "# convert \"Treatment Y/N\" to integer\n",
    "\n",
    "divorce_data['Treatment'] = divorce_data['Treatment Y/N'].map({'Yes':1, 'No':0})"
   ]
  },
  {
   "cell_type": "code",
   "execution_count": 8,
   "id": "d3da2075-8950-42e2-bc63-45b7949a4b4e",
   "metadata": {},
   "outputs": [
    {
     "name": "stdout",
     "output_type": "stream",
     "text": [
      "All good and tidy.\n"
     ]
    }
   ],
   "source": [
    "# check if any years are missing from treatment\n",
    "\n",
    "mask = (divorce_data['Treatment'].eq(1) & divorce_data['Treatment Year'].isnull())\n",
    "    \n",
    "if mask.any():  \n",
    "    print(f\"Uh-oh, year missing for {divorce_data.loc[mask, 'Country'].to_list()}\")\n",
    "else:\n",
    "    print('All good and tidy.')"
   ]
  },
  {
   "cell_type": "code",
   "execution_count": 9,
   "id": "db58e118-7fab-45ac-a303-4eeb4ebda581",
   "metadata": {},
   "outputs": [
    {
     "name": "stdout",
     "output_type": "stream",
     "text": [
      "All good and tidy.\n"
     ]
    }
   ],
   "source": [
    "# check if any untreated years have a date in the \"Treatment Year\" column by accident\n",
    "\n",
    "mask = (divorce_data['Treatment Y/N']=='No') & (divorce_data['Treatment Year'].notnull())\n",
    "\n",
    "if mask.any():\n",
    "    print(f\"Uh-oh, year missing for {divorce_data.loc[mask, 'Country'].to_list()}\")\n",
    "else:\n",
    "    print('All good and tidy.')"
   ]
  },
  {
   "cell_type": "code",
   "execution_count": 10,
   "id": "e5e02a3c-d3af-4e7f-8d31-38068162fcde",
   "metadata": {},
   "outputs": [
    {
     "data": {
      "image/png": "[encoded data removed]",
      "text/plain": [
       "<Figure size 640x480 with 1 Axes>"
      ]
     },
     "metadata": {},
     "output_type": "display_data"
    }
   ],
   "source": [
    "# visualize divorce year\n",
    "\n",
    "divorce_data['Treatment Year'].hist(bins=50)\n",
    "plt.title('Treatment Year Distribution - Divorce Data')\n",
    "plt.show()"
   ]
  },
  {
   "cell_type": "markdown",
   "id": "8d44fc3c-47e9-4970-85bb-28536507b467",
   "metadata": {},
   "source": [
    "# Merge: CoResidence & Divorce Data"
   ]
  },
  {
   "cell_type": "code",
   "execution_count": 11,
   "id": "a54bf5ba-814b-4b24-b74a-2ee3b4b1e50a",
   "metadata": {},
   "outputs": [
    {
     "data": {
      "text/plain": [
       "['Congo, Dem. Rep.',\n",
       " 'Czechia',\n",
       " 'Egypt, Arab Rep.',\n",
       " 'Gambia, The',\n",
       " 'Iran, Islamic Rep.',\n",
       " 'Korea, Rep.',\n",
       " 'Lao PDR',\n",
       " 'North Macedonia',\n",
       " 'West Bank and Gaza',\n",
       " 'Russian Federation',\n",
       " 'Slovak Republic',\n",
       " 'Venezuela, RB',\n",
       " 'Viet Nam',\n",
       " 'Yemen, Rep.']"
      ]
     },
     "execution_count": 11,
     "metadata": {},
     "output_type": "execute_result"
    }
   ],
   "source": [
    "# anticipate merge failures\n",
    "\n",
    "[country for country in df['Country Name'].unique() if country not in divorce_data['Country'].unique()]"
   ]
  },
  {
   "cell_type": "code",
   "execution_count": 12,
   "id": "282d5136-3540-426f-aef0-cf606fd40dd9",
   "metadata": {},
   "outputs": [],
   "source": [
    "# name mapper for improved merge:\n",
    "\n",
    "country_name_mapper = {\n",
    "    'Congo, Dem. Rep.':'Congo',\n",
    " 'Czechia':'Czech Republic',\n",
    " 'Egypt, Arab Rep.':'Egypt',\n",
    " 'Gambia, The':'Gambia',\n",
    " 'Iran, Islamic Rep.':'Iran',\n",
    " 'Korea, Rep.':'South Korea',\n",
    " 'Lao PDR':'Laos',\n",
    " 'North Macedonia':'Macedonia',\n",
    " 'West Bank and Gaza':'Palestine',\n",
    " 'Russian Federation':'Russia',\n",
    " 'Slovak Republic':'Slovakia',\n",
    " 'Venezuela, RB':'Venezuela',\n",
    " 'Viet Nam':'Vietnam',\n",
    " 'Yemen, Rep.':'Yemen'\n",
    "}\n",
    "\n",
    "# reverse\n",
    "country_name_mapper = {\n",
    "    value:key for key, value in country_name_mapper.items()\n",
    "}\n"
   ]
  },
  {
   "cell_type": "code",
   "execution_count": 13,
   "id": "247100e0-26fc-4327-9101-720d3970121b",
   "metadata": {},
   "outputs": [],
   "source": [
    "# update names in right table to prepare for successful merge\n",
    "\n",
    "divorce_data['Country'] = divorce_data['Country'].replace(country_name_mapper)\n"
   ]
  },
  {
   "cell_type": "code",
   "execution_count": 14,
   "id": "08fc042a-0c64-4934-a4bb-482434b14242",
   "metadata": {},
   "outputs": [],
   "source": [
    "# merge with divorce data\n",
    "\n",
    "df_mstr = df.merge(divorce_data, left_on='Country Name', right_on='Country', how='left')"
   ]
  },
  {
   "cell_type": "code",
   "execution_count": 15,
   "id": "ad2486c2-9778-45a4-868d-8aa522c65b77",
   "metadata": {},
   "outputs": [
    {
     "data": {
      "text/html": [
       "<div>\n",
       "<style scoped>\n",
       "    .dataframe tbody tr th:only-of-type {\n",
       "        vertical-align: middle;\n",
       "    }\n",
       "\n",
       "    .dataframe tbody tr th {\n",
       "        vertical-align: top;\n",
       "    }\n",
       "\n",
       "    .dataframe thead th {\n",
       "        text-align: right;\n",
       "    }\n",
       "</style>\n",
       "<table border=\"1\" class=\"dataframe\">\n",
       "  <thead>\n",
       "    <tr style=\"text-align: right;\">\n",
       "      <th></th>\n",
       "      <th>Country Name</th>\n",
       "      <th>Country Code</th>\n",
       "      <th>Year</th>\n",
       "      <th>Gini_recon_hybrid</th>\n",
       "      <th>Gini</th>\n",
       "      <th>Gini_missing</th>\n",
       "      <th>Country</th>\n",
       "      <th>Blame Based</th>\n",
       "      <th>Fault Comment</th>\n",
       "      <th>Irreconcilable Differences</th>\n",
       "      <th>No Fault Comment</th>\n",
       "      <th>Treatment Y/N</th>\n",
       "      <th>Treatment Year</th>\n",
       "      <th>Unnamed: 8</th>\n",
       "      <th>Fault Based</th>\n",
       "      <th>Mutual No Fault</th>\n",
       "      <th>Unilateral No Fault</th>\n",
       "      <th>Treatment</th>\n",
       "    </tr>\n",
       "  </thead>\n",
       "  <tbody>\n",
       "  </tbody>\n",
       "</table>\n",
       "</div>"
      ],
      "text/plain": [
       "Empty DataFrame\n",
       "Columns: [Country Name, Country Code, Year, Gini_recon_hybrid, Gini, Gini_missing, Country, Blame Based, Fault Comment, Irreconcilable Differences, No Fault Comment, Treatment Y/N, Treatment Year, Unnamed: 8, Fault Based, Mutual No Fault, Unilateral No Fault, Treatment]\n",
       "Index: []"
      ]
     },
     "execution_count": 15,
     "metadata": {},
     "output_type": "execute_result"
    }
   ],
   "source": [
    "df_mstr[df_mstr['Treatment Y/N'].isnull()]"
   ]
  },
  {
   "cell_type": "code",
   "execution_count": 16,
   "id": "0c8e994e-7e48-4ca6-8ec9-872848050456",
   "metadata": {},
   "outputs": [],
   "source": [
    "# drop columns\n",
    "columns_to_drop = ['Unnamed: 8', 'Fault Based', 'Mutual No Fault', 'Unilateral No Fault']\n",
    "df_mstr = df_mstr.drop(columns=columns_to_drop)"
   ]
  },
  {
   "cell_type": "code",
   "execution_count": 17,
   "id": "46c972c7-1d60-4238-95a2-7d5e43e7f674",
   "metadata": {},
   "outputs": [
    {
     "data": {
      "image/png": "[encoded data removed]",
      "text/plain": [
       "<Figure size 640x480 with 1 Axes>"
      ]
     },
     "metadata": {},
     "output_type": "display_data"
    },
    {
     "name": "stdout",
     "output_type": "stream",
     "text": [
      "Percentage of observations ever treated: 55.00000000000001%\n"
     ]
    }
   ],
   "source": [
    "# Plot treatment years represented in merged data\n",
    "\n",
    "df_mstr['Treatment Year'].hist(bins=50)\n",
    "plt.title('Treatment Years Represented in Gini Data')\n",
    "plt.show()\n",
    "\n",
    "# size of treated vs. not treated, by year\n",
    "percent_treated = df_mstr['Treatment Year'].notnull().sum()/len(df_mstr)\n",
    "print(f\"Percentage of observations ever treated: {round(percent_treated, 2)*100}%\")"
   ]
  },
  {
   "cell_type": "code",
   "execution_count": 18,
   "id": "da4a8e1a-2ff8-427d-8c6d-6e140bef1213",
   "metadata": {},
   "outputs": [],
   "source": [
    "# create treatment cohorts\n",
    "\n",
    "def treatment_cohort(treatment_year):\n",
    "    \"\"\"Takes treatment year and assigns to a cohort\"\"\"\n",
    "    if pd.isna(treatment_year):\n",
    "        return np.nan\n",
    "    floor_decade = int((treatment_year)//10*10)\n",
    "    ceiling_decade = floor_decade + 9\n",
    "    treatment_cohort = f\"{floor_decade}-{ceiling_decade}\"\n",
    "    return(treatment_cohort)\n",
    "    "
   ]
  },
  {
   "cell_type": "code",
   "execution_count": 19,
   "id": "6b941fab-ca06-4770-8271-9aa80255cef3",
   "metadata": {},
   "outputs": [
    {
     "name": "stdout",
     "output_type": "stream",
     "text": [
      "Treatment Cohorts: ['1910-1919', '1940-1949', '1960-1969', '1970-1979', '1980-1989', '1990-1999', '2000-2009', '2010-2019', '2020-2029']\n"
     ]
    }
   ],
   "source": [
    "# create treatment cohorts using formula\n",
    "\n",
    "df_mstr['Treatment Cohort'] = df_mstr['Treatment Year'].apply(lambda x: treatment_cohort(x))\n",
    "\n",
    "print(f\"Treatment Cohorts: {sorted(df_mstr['Treatment Cohort'].dropna().unique())}\")"
   ]
  },
  {
   "cell_type": "code",
   "execution_count": 20,
   "id": "d46d9ebf-6d3b-4abf-a157-6c2fd6c5f32f",
   "metadata": {},
   "outputs": [],
   "source": [
    "# define viable countries as having both pre and post years when treated\n",
    "\n",
    "\n",
    "viable_countries = df_mstr.groupby('Country', group_keys=False).apply(\n",
    "    lambda x: (\n",
    "        ((x['Treatment']==1) & (x['Year'] < x['Treatment Year'])).any()) and\n",
    "    ((x['Treatment']==1) & (x['Year'] >= x['Treatment Year'])).any()\n",
    ")\n",
    "\n",
    "viable_countries_filtered = viable_countries[viable_countries]"
   ]
  },
  {
   "cell_type": "code",
   "execution_count": 21,
   "id": "3d572afa-e31c-458f-87d7-fe1d4acb63c9",
   "metadata": {},
   "outputs": [],
   "source": [
    "# OnTreat column tracks which entities and years have received treatment\n",
    "\n",
    "df_mstr['OnTreat'] = (\n",
    "    (df_mstr['Year']>=df_mstr['Treatment Year']) \n",
    "    & df_mstr['Treatment'].eq(1)\n",
    ").astype(int)\n"
   ]
  },
  {
   "cell_type": "code",
   "execution_count": 22,
   "id": "832c4893-1fdd-45b4-bf1f-d46d3e4bfd7d",
   "metadata": {},
   "outputs": [],
   "source": [
    "# validate that OnTreat diversity per country equals viable_countries_filtered\n",
    "\n",
    "\n",
    "on_treat = df_mstr[df_mstr['Treatment']==1].groupby('Country')['OnTreat'].nunique()==2\n",
    "on_treat_filtered = on_treat[on_treat]\n"
   ]
  },
  {
   "cell_type": "code",
   "execution_count": 23,
   "id": "ca88e373-d28e-42e8-8517-ecb46d154578",
   "metadata": {},
   "outputs": [],
   "source": [
    "# sanity check\n",
    "\n",
    "assert on_treat_filtered.equals(viable_countries_filtered), \"uh-oh\""
   ]
  },
  {
   "cell_type": "code",
   "execution_count": 24,
   "id": "a1e69eb8-eef0-4d6c-9775-5f1840d43876",
   "metadata": {},
   "outputs": [],
   "source": [
    "# filter df_mstr down to appropriate countries only\n",
    "\n",
    "df_mstr = df_mstr[df_mstr['Country'].isin(viable_countries_filtered.index)]\n"
   ]
  },
  {
   "cell_type": "code",
   "execution_count": 25,
   "id": "c9ed646d-72bb-4b91-a324-62430bc01004",
   "metadata": {},
   "outputs": [
    {
     "data": {
      "text/plain": [
       "Index(['1960-1969', '1970-1979', '1980-1989', '1990-1999', '2000-2009',\n",
       "       '2010-2019'],\n",
       "      dtype='object', name='Treatment Cohort')"
      ]
     },
     "execution_count": 25,
     "metadata": {},
     "output_type": "execute_result"
    }
   ],
   "source": [
    "# viable cohorts have at least 30 rows of treated data\n",
    "\n",
    "cohort_ontreat = (df_mstr.groupby('Treatment Cohort')['OnTreat'].agg('sum')>=30)\n",
    "viable_cohorts = cohort_ontreat[cohort_ontreat].index\n",
    "viable_cohorts"
   ]
  },
  {
   "cell_type": "code",
   "execution_count": 26,
   "id": "3abf58ad-0400-44e4-9994-d04130172985",
   "metadata": {},
   "outputs": [
    {
     "data": {
      "image/png": "[encoded data removed]",
      "text/plain": [
       "<Figure size 640x480 with 1 Axes>"
      ]
     },
     "metadata": {},
     "output_type": "display_data"
    }
   ],
   "source": [
    "# visualize cohort trends\n",
    "\n",
    "fig, ax = plt.subplots()\n",
    "\n",
    "for cohort in viable_cohorts:\n",
    "    \n",
    "    annual_agg = (\n",
    "        df_mstr[df_mstr['Treatment Cohort']==cohort]\n",
    "        .groupby('Year', as_index=False).agg(Annual_Gini=('Gini_recon_hybrid', 'mean'))\n",
    "    )\n",
    "    x_axis = annual_agg['Year']\n",
    "    y_axis = annual_agg['Annual_Gini']\n",
    "\n",
    "    plt.plot(x_axis, y_axis, label = cohort)\n",
    "    plt.legend(bbox_to_anchor=(1,1))\n",
    "\n",
    "plt.title(\"Gini (Inverted) by Treatment Cohort\")\n",
    "plt.show()"
   ]
  },
  {
   "cell_type": "markdown",
   "id": "897079d4-93ab-418a-85e0-920399135a93",
   "metadata": {},
   "source": [
    "# Staggered DiD"
   ]
  },
  {
   "cell_type": "code",
   "execution_count": 27,
   "id": "3667b967-831b-4ffc-be6c-36d9fe42fc2c",
   "metadata": {},
   "outputs": [],
   "source": [
    "# create a copy of the master data \n",
    "\n",
    "df_did = df_mstr.copy()"
   ]
  },
  {
   "cell_type": "code",
   "execution_count": 28,
   "id": "e328012e-d829-4b1b-b0a5-1b2f76cdb4ec",
   "metadata": {},
   "outputs": [
    {
     "name": "stdout",
     "output_type": "stream",
     "text": [
      "1960-1969\n",
      "1970-1979\n",
      "1980-1989\n",
      "1990-1999\n",
      "2000-2009\n",
      "2010-2019\n"
     ]
    },
    {
     "name": "stderr",
     "output_type": "stream",
     "text": [
      "/Users/lilianburgler/anaconda3/lib/python3.10/site-packages/statsmodels/regression/linear_model.py:1854: RuntimeWarning: invalid value encountered in sqrt\n",
      "  return np.sqrt(np.diag(self.cov_params()))\n",
      "/Users/lilianburgler/anaconda3/lib/python3.10/site-packages/statsmodels/regression/linear_model.py:1854: RuntimeWarning: invalid value encountered in sqrt\n",
      "  return np.sqrt(np.diag(self.cov_params()))\n",
      "/Users/lilianburgler/anaconda3/lib/python3.10/site-packages/statsmodels/regression/linear_model.py:1854: RuntimeWarning: invalid value encountered in sqrt\n",
      "  return np.sqrt(np.diag(self.cov_params()))\n",
      "/Users/lilianburgler/anaconda3/lib/python3.10/site-packages/statsmodels/regression/linear_model.py:1854: RuntimeWarning: invalid value encountered in sqrt\n",
      "  return np.sqrt(np.diag(self.cov_params()))\n",
      "/Users/lilianburgler/anaconda3/lib/python3.10/site-packages/statsmodels/regression/linear_model.py:1854: RuntimeWarning: invalid value encountered in sqrt\n",
      "  return np.sqrt(np.diag(self.cov_params()))\n",
      "/Users/lilianburgler/anaconda3/lib/python3.10/site-packages/statsmodels/regression/linear_model.py:1854: RuntimeWarning: invalid value encountered in sqrt\n",
      "  return np.sqrt(np.diag(self.cov_params()))\n"
     ]
    }
   ],
   "source": [
    "# DiD\n",
    "\n",
    "# initiate dictionaries to store results\n",
    "results = {}\n",
    "warn_log = {}\n",
    "custom_summary = []\n",
    "\n",
    "Y = 'Gini_recon_hybrid'\n",
    "target = 'Treatment:OnTreat'\n",
    "\n",
    "for cohort in viable_cohorts:\n",
    "    print(cohort)\n",
    "    treated_mask = df_did['Treatment Cohort']==cohort #all cohorts by definition are treated\n",
    "    treated = df_did[treated_mask]\n",
    "\n",
    "    benchmark_year = treated['Treatment Year'].mode().iat[0] #treatment year per cohort\n",
    "    \n",
    "    # control groups:\n",
    "    # never treated & not-yet-treated (where years come before treatment)\n",
    "    never_treated_mask = df_did['Treatment']== 0\n",
    "    not_yet_treated_mask = (df_did['Treatment Year'].gt(benchmark_year) \n",
    "                            & df_did['Year'].lt(df_did['Treatment Year']))\n",
    "    control_mask = never_treated_mask | not_yet_treated_mask\n",
    "                            \n",
    "    subset = df_did.loc[treated_mask | control_mask].copy()\n",
    "    \n",
    "    # identify countries with fewer than 2 observations\n",
    "    singleton_countries = subset['Country'].value_counts().loc[lambda x: x<2]\n",
    "    \n",
    "    # drop singleton countries\n",
    "    subset = subset[~subset['Country'].isin(singleton_countries)].copy()\n",
    "    \n",
    "    # DiD formula\n",
    "    formula = f\"{Y} ~ Treatment:OnTreat + C(Year) + C(Country)\"\n",
    "    \n",
    "    \n",
    "\n",
    "    result = smf.ols(formula=formula, data=subset).fit(\n",
    "    cov_type = 'cluster',\n",
    "    cov_kwds = {'groups': subset['Country']})\n",
    "        \n",
    "\n",
    "    \n",
    "    # collect results in dictionary\n",
    "    results[cohort] = result\n",
    "\n",
    "    # generate DiD stats\n",
    "    coef = result.params.get(target, np.nan)\n",
    "    se = result.bse.get(target, np.nan)\n",
    "    tval = result.tvalues.get(target, np.nan)\n",
    "    pval = result.pvalues.get(target, np.nan)\n",
    "    \n",
    "    if (not np.isfinite(se)) or (se==0):\n",
    "        warn_log.setdefault(cohort, []).append(\n",
    "            f\"SE invalid (se={se}); clusters={subset['Country'].nunique()}\"\n",
    "        )\n",
    "        \n",
    "    # gather DiD stats\n",
    "    custom_summary.append({\n",
    "        \"cohort\" : cohort,\n",
    "        \"coef\": coef,\n",
    "        \"se\":se,\n",
    "        \"tval\": tval,\n",
    "        \"pval\": pval\n",
    "    }\n",
    "    )"
   ]
  },
  {
   "cell_type": "code",
   "execution_count": 29,
   "id": "bdca8017-e5b5-4793-a898-5169584e3c23",
   "metadata": {},
   "outputs": [
    {
     "data": {
      "text/html": [
       "<div>\n",
       "<style scoped>\n",
       "    .dataframe tbody tr th:only-of-type {\n",
       "        vertical-align: middle;\n",
       "    }\n",
       "\n",
       "    .dataframe tbody tr th {\n",
       "        vertical-align: top;\n",
       "    }\n",
       "\n",
       "    .dataframe thead th {\n",
       "        text-align: right;\n",
       "    }\n",
       "</style>\n",
       "<table border=\"1\" class=\"dataframe\">\n",
       "  <thead>\n",
       "    <tr style=\"text-align: right;\">\n",
       "      <th></th>\n",
       "      <th>cohort</th>\n",
       "      <th>coef</th>\n",
       "      <th>se</th>\n",
       "      <th>tval</th>\n",
       "      <th>pval</th>\n",
       "    </tr>\n",
       "  </thead>\n",
       "  <tbody>\n",
       "    <tr>\n",
       "      <th>0</th>\n",
       "      <td>1960-1969</td>\n",
       "      <td>0.254561</td>\n",
       "      <td>0.113652</td>\n",
       "      <td>2.239819</td>\n",
       "      <td>0.025103</td>\n",
       "    </tr>\n",
       "    <tr>\n",
       "      <th>1</th>\n",
       "      <td>1970-1979</td>\n",
       "      <td>0.375001</td>\n",
       "      <td>0.200944</td>\n",
       "      <td>1.866196</td>\n",
       "      <td>0.062014</td>\n",
       "    </tr>\n",
       "    <tr>\n",
       "      <th>2</th>\n",
       "      <td>1980-1989</td>\n",
       "      <td>0.424804</td>\n",
       "      <td>0.276705</td>\n",
       "      <td>1.535224</td>\n",
       "      <td>0.124729</td>\n",
       "    </tr>\n",
       "    <tr>\n",
       "      <th>3</th>\n",
       "      <td>1990-1999</td>\n",
       "      <td>0.434416</td>\n",
       "      <td>0.367906</td>\n",
       "      <td>1.180780</td>\n",
       "      <td>0.237690</td>\n",
       "    </tr>\n",
       "    <tr>\n",
       "      <th>4</th>\n",
       "      <td>2000-2009</td>\n",
       "      <td>0.308369</td>\n",
       "      <td>0.439197</td>\n",
       "      <td>0.702120</td>\n",
       "      <td>0.482604</td>\n",
       "    </tr>\n",
       "    <tr>\n",
       "      <th>5</th>\n",
       "      <td>2010-2019</td>\n",
       "      <td>1.436659</td>\n",
       "      <td>0.976666</td>\n",
       "      <td>1.470983</td>\n",
       "      <td>0.141296</td>\n",
       "    </tr>\n",
       "  </tbody>\n",
       "</table>\n",
       "</div>"
      ],
      "text/plain": [
       "      cohort      coef        se      tval      pval\n",
       "0  1960-1969  0.254561  0.113652  2.239819  0.025103\n",
       "1  1970-1979  0.375001  0.200944  1.866196  0.062014\n",
       "2  1980-1989  0.424804  0.276705  1.535224  0.124729\n",
       "3  1990-1999  0.434416  0.367906  1.180780  0.237690\n",
       "4  2000-2009  0.308369  0.439197  0.702120  0.482604\n",
       "5  2010-2019  1.436659  0.976666  1.470983  0.141296"
      ]
     },
     "execution_count": 29,
     "metadata": {},
     "output_type": "execute_result"
    }
   ],
   "source": [
    "# inspect custom summary\n",
    "custom_summary = pd.DataFrame(custom_summary)\n",
    "custom_summary"
   ]
  },
  {
   "cell_type": "code",
   "execution_count": 30,
   "id": "b40c992a-ac2e-444e-9bbe-ebffa4a06351",
   "metadata": {},
   "outputs": [
    {
     "data": {
      "text/plain": [
       "{}"
      ]
     },
     "execution_count": 30,
     "metadata": {},
     "output_type": "execute_result"
    }
   ],
   "source": [
    "# inspect warnings for DiD term\n",
    "warn_log"
   ]
  },
  {
   "cell_type": "markdown",
   "id": "0793034d-7f15-4e60-aea0-6fcfbec7da04",
   "metadata": {},
   "source": [
    "# Panel OLS"
   ]
  },
  {
   "cell_type": "code",
   "execution_count": 31,
   "id": "afe2f472-c2e6-404f-a082-09d5a7475d48",
   "metadata": {},
   "outputs": [],
   "source": [
    "# create a copy\n",
    "df_panel = df_mstr.copy()\n"
   ]
  },
  {
   "cell_type": "code",
   "execution_count": 32,
   "id": "c473a1ae-b13e-4cd2-89e1-bf0fc0a40c7f",
   "metadata": {},
   "outputs": [],
   "source": [
    "# set index as required by panel ols\n",
    "df_panel = df_panel.set_index(['Country', 'Year'])"
   ]
  },
  {
   "cell_type": "code",
   "execution_count": 33,
   "id": "a4f37189-c5bf-4a67-a216-4cbf507a2998",
   "metadata": {},
   "outputs": [
    {
     "name": "stdout",
     "output_type": "stream",
     "text": [
      "1960-1969\n",
      "1970-1979\n",
      "1980-1989\n",
      "1990-1999\n",
      "2000-2009\n",
      "2010-2019\n"
     ]
    }
   ],
   "source": [
    "for cohort in viable_cohorts:\n",
    "    print(cohort)"
   ]
  },
  {
   "cell_type": "code",
   "execution_count": 34,
   "id": "61fed0bd-b773-4029-b6b5-74370607a669",
   "metadata": {},
   "outputs": [
    {
     "name": "stdout",
     "output_type": "stream",
     "text": [
      "1960-1969\n",
      "1965.0\n",
      "1970-1979\n",
      "1977.0\n",
      "1980-1989\n",
      "1980.0\n",
      "1990-1999\n",
      "1992.0\n",
      "2000-2009\n",
      "2001.0\n",
      "2010-2019\n",
      "2016.0\n"
     ]
    }
   ],
   "source": [
    "# try with panel ols\n",
    "\n",
    "panel_results = {}\n",
    "panel_summary = []\n",
    "\n",
    "for cohort in viable_cohorts:\n",
    "    print(cohort)\n",
    "    \n",
    "    benchmark_year = df_panel.loc[df_panel['Treatment Cohort']==cohort, 'Treatment Year'].mode().iat[0]\n",
    "    print(benchmark_year)\n",
    "    \n",
    "    treated_mask = df_panel['Treatment Cohort'] == cohort\n",
    "    \n",
    "    never_treated_mask = df_panel['Treatment'] == 0\n",
    "    not_yet_treated_mask = (\n",
    "        (df_panel['Treatment Year'] > benchmark_year) & \n",
    "        (df_panel.index.get_level_values('Year') < df_panel['Treatment Year'])\n",
    "    )\n",
    "    \n",
    "    control_mask = never_treated_mask | not_yet_treated_mask\n",
    "    \n",
    "    es_cols = ['OnTreat']\n",
    "    \n",
    "    subset = df_panel.loc[treated_mask | control_mask, es_cols]\n",
    "    \n",
    "    y = df_panel.loc[subset.index, 'Gini_recon_hybrid']\n",
    "    X = subset.copy()\n",
    "    \n",
    "    model = PanelOLS(y, X, entity_effects=True, time_effects=True)\n",
    "    result = model.fit(cov_type='clustered', cluster_entity=True, cluster_time=False)\n",
    "    \n",
    "    panel_results[cohort] = result\n",
    "    \n",
    "    # build custom summary\n",
    "    panel_summary.append(\n",
    "        {\n",
    "        'cohort':cohort,\n",
    "        'coefficient': result.params.iat[0],\n",
    "        'standard error': result.std_errors.iat[0],\n",
    "        'p_value': result.pvalues.iat[0],\n",
    "        't_value': result.tstats.iat[0]\n",
    "    }\n",
    "    )\n",
    "    "
   ]
  },
  {
   "cell_type": "code",
   "execution_count": 35,
   "id": "340ca6ee-2f44-4403-8954-d96ce6ea1b71",
   "metadata": {},
   "outputs": [
    {
     "data": {
      "text/html": [
       "<div>\n",
       "<style scoped>\n",
       "    .dataframe tbody tr th:only-of-type {\n",
       "        vertical-align: middle;\n",
       "    }\n",
       "\n",
       "    .dataframe tbody tr th {\n",
       "        vertical-align: top;\n",
       "    }\n",
       "\n",
       "    .dataframe thead th {\n",
       "        text-align: right;\n",
       "    }\n",
       "</style>\n",
       "<table border=\"1\" class=\"dataframe\">\n",
       "  <thead>\n",
       "    <tr style=\"text-align: right;\">\n",
       "      <th></th>\n",
       "      <th>cohort</th>\n",
       "      <th>coefficient</th>\n",
       "      <th>standard error</th>\n",
       "      <th>p_value</th>\n",
       "      <th>t_value</th>\n",
       "    </tr>\n",
       "  </thead>\n",
       "  <tbody>\n",
       "    <tr>\n",
       "      <th>0</th>\n",
       "      <td>1960-1969</td>\n",
       "      <td>0.254561</td>\n",
       "      <td>0.112758</td>\n",
       "      <td>0.024077</td>\n",
       "      <td>2.257584</td>\n",
       "    </tr>\n",
       "    <tr>\n",
       "      <th>1</th>\n",
       "      <td>1970-1979</td>\n",
       "      <td>0.375001</td>\n",
       "      <td>0.199326</td>\n",
       "      <td>0.060033</td>\n",
       "      <td>1.881346</td>\n",
       "    </tr>\n",
       "    <tr>\n",
       "      <th>2</th>\n",
       "      <td>1980-1989</td>\n",
       "      <td>0.424804</td>\n",
       "      <td>0.273806</td>\n",
       "      <td>0.120934</td>\n",
       "      <td>1.551479</td>\n",
       "    </tr>\n",
       "    <tr>\n",
       "      <th>3</th>\n",
       "      <td>1990-1999</td>\n",
       "      <td>0.434416</td>\n",
       "      <td>0.363123</td>\n",
       "      <td>0.231714</td>\n",
       "      <td>1.196334</td>\n",
       "    </tr>\n",
       "    <tr>\n",
       "      <th>4</th>\n",
       "      <td>2000-2009</td>\n",
       "      <td>0.308369</td>\n",
       "      <td>0.431118</td>\n",
       "      <td>0.474544</td>\n",
       "      <td>0.715278</td>\n",
       "    </tr>\n",
       "    <tr>\n",
       "      <th>5</th>\n",
       "      <td>2010-2019</td>\n",
       "      <td>1.436659</td>\n",
       "      <td>0.927283</td>\n",
       "      <td>0.121874</td>\n",
       "      <td>1.549321</td>\n",
       "    </tr>\n",
       "  </tbody>\n",
       "</table>\n",
       "</div>"
      ],
      "text/plain": [
       "      cohort  coefficient  standard error   p_value   t_value\n",
       "0  1960-1969     0.254561        0.112758  0.024077  2.257584\n",
       "1  1970-1979     0.375001        0.199326  0.060033  1.881346\n",
       "2  1980-1989     0.424804        0.273806  0.120934  1.551479\n",
       "3  1990-1999     0.434416        0.363123  0.231714  1.196334\n",
       "4  2000-2009     0.308369        0.431118  0.474544  0.715278\n",
       "5  2010-2019     1.436659        0.927283  0.121874  1.549321"
      ]
     },
     "execution_count": 35,
     "metadata": {},
     "output_type": "execute_result"
    }
   ],
   "source": [
    "panel_summary = pd.DataFrame(panel_summary)\n",
    "\n",
    "panel_summary"
   ]
  },
  {
   "cell_type": "code",
   "execution_count": 36,
   "id": "fcc12ce8-3729-4ab8-b942-e0288ea2689c",
   "metadata": {},
   "outputs": [
    {
     "data": {
      "text/html": [
       "<div>\n",
       "<style scoped>\n",
       "    .dataframe tbody tr th:only-of-type {\n",
       "        vertical-align: middle;\n",
       "    }\n",
       "\n",
       "    .dataframe tbody tr th {\n",
       "        vertical-align: top;\n",
       "    }\n",
       "\n",
       "    .dataframe thead th {\n",
       "        text-align: right;\n",
       "    }\n",
       "</style>\n",
       "<table border=\"1\" class=\"dataframe\">\n",
       "  <thead>\n",
       "    <tr style=\"text-align: right;\">\n",
       "      <th></th>\n",
       "      <th>cohort</th>\n",
       "      <th>coef</th>\n",
       "      <th>se</th>\n",
       "      <th>tval</th>\n",
       "      <th>pval</th>\n",
       "      <th>cohort</th>\n",
       "      <th>coefficient</th>\n",
       "      <th>standard error</th>\n",
       "      <th>p_value</th>\n",
       "      <th>t_value</th>\n",
       "    </tr>\n",
       "  </thead>\n",
       "  <tbody>\n",
       "    <tr>\n",
       "      <th>0</th>\n",
       "      <td>1960-1969</td>\n",
       "      <td>0.254561</td>\n",
       "      <td>0.113652</td>\n",
       "      <td>2.239819</td>\n",
       "      <td>0.025103</td>\n",
       "      <td>1960-1969</td>\n",
       "      <td>0.254561</td>\n",
       "      <td>0.112758</td>\n",
       "      <td>0.024077</td>\n",
       "      <td>2.257584</td>\n",
       "    </tr>\n",
       "    <tr>\n",
       "      <th>1</th>\n",
       "      <td>1970-1979</td>\n",
       "      <td>0.375001</td>\n",
       "      <td>0.200944</td>\n",
       "      <td>1.866196</td>\n",
       "      <td>0.062014</td>\n",
       "      <td>1970-1979</td>\n",
       "      <td>0.375001</td>\n",
       "      <td>0.199326</td>\n",
       "      <td>0.060033</td>\n",
       "      <td>1.881346</td>\n",
       "    </tr>\n",
       "    <tr>\n",
       "      <th>2</th>\n",
       "      <td>1980-1989</td>\n",
       "      <td>0.424804</td>\n",
       "      <td>0.276705</td>\n",
       "      <td>1.535224</td>\n",
       "      <td>0.124729</td>\n",
       "      <td>1980-1989</td>\n",
       "      <td>0.424804</td>\n",
       "      <td>0.273806</td>\n",
       "      <td>0.120934</td>\n",
       "      <td>1.551479</td>\n",
       "    </tr>\n",
       "    <tr>\n",
       "      <th>3</th>\n",
       "      <td>1990-1999</td>\n",
       "      <td>0.434416</td>\n",
       "      <td>0.367906</td>\n",
       "      <td>1.180780</td>\n",
       "      <td>0.237690</td>\n",
       "      <td>1990-1999</td>\n",
       "      <td>0.434416</td>\n",
       "      <td>0.363123</td>\n",
       "      <td>0.231714</td>\n",
       "      <td>1.196334</td>\n",
       "    </tr>\n",
       "    <tr>\n",
       "      <th>4</th>\n",
       "      <td>2000-2009</td>\n",
       "      <td>0.308369</td>\n",
       "      <td>0.439197</td>\n",
       "      <td>0.702120</td>\n",
       "      <td>0.482604</td>\n",
       "      <td>2000-2009</td>\n",
       "      <td>0.308369</td>\n",
       "      <td>0.431118</td>\n",
       "      <td>0.474544</td>\n",
       "      <td>0.715278</td>\n",
       "    </tr>\n",
       "    <tr>\n",
       "      <th>5</th>\n",
       "      <td>2010-2019</td>\n",
       "      <td>1.436659</td>\n",
       "      <td>0.976666</td>\n",
       "      <td>1.470983</td>\n",
       "      <td>0.141296</td>\n",
       "      <td>2010-2019</td>\n",
       "      <td>1.436659</td>\n",
       "      <td>0.927283</td>\n",
       "      <td>0.121874</td>\n",
       "      <td>1.549321</td>\n",
       "    </tr>\n",
       "  </tbody>\n",
       "</table>\n",
       "</div>"
      ],
      "text/plain": [
       "      cohort      coef        se      tval      pval     cohort  coefficient  \\\n",
       "0  1960-1969  0.254561  0.113652  2.239819  0.025103  1960-1969     0.254561   \n",
       "1  1970-1979  0.375001  0.200944  1.866196  0.062014  1970-1979     0.375001   \n",
       "2  1980-1989  0.424804  0.276705  1.535224  0.124729  1980-1989     0.424804   \n",
       "3  1990-1999  0.434416  0.367906  1.180780  0.237690  1990-1999     0.434416   \n",
       "4  2000-2009  0.308369  0.439197  0.702120  0.482604  2000-2009     0.308369   \n",
       "5  2010-2019  1.436659  0.976666  1.470983  0.141296  2010-2019     1.436659   \n",
       "\n",
       "   standard error   p_value   t_value  \n",
       "0        0.112758  0.024077  2.257584  \n",
       "1        0.199326  0.060033  1.881346  \n",
       "2        0.273806  0.120934  1.551479  \n",
       "3        0.363123  0.231714  1.196334  \n",
       "4        0.431118  0.474544  0.715278  \n",
       "5        0.927283  0.121874  1.549321  "
      ]
     },
     "execution_count": 36,
     "metadata": {},
     "output_type": "execute_result"
    }
   ],
   "source": [
    "side_by_side = pd.DataFrame(pd.concat([custom_summary, panel_summary], axis=1))\n",
    "side_by_side"
   ]
  },
  {
   "cell_type": "markdown",
   "id": "1f4ff8fa-b577-4272-92ab-5dff99f6aeb2",
   "metadata": {},
   "source": [
    "## Summary\n",
    "\n",
    "Staggered DiD regressions per cohort revealed statistically significant effects for two cohorts: \n",
    "1) **1960-1969** - coef: 0.25 (pval 0.02)\n",
    "2) **1970-1979** - coef: 0.20 (pval 0.06)\n",
    "\n",
    "Gini values have been previously inverted to improve interpretability. Normally, high Gini values indicate high levels of inequality. Thus, a positive coefficient corresponds to a decrease in Gini values, and a decrease in wealth inequality.\n",
    "\n",
    "Unfortunately, staggered cohorts require assigning a 'Treatment Year' per cohort, which is the mode of the treatment years in that cohort. By definition, benchmarking to the mode year will capture most of the treatment years in the cohort. However, this will also contaminate data, which does not have the mode treatment year.\n",
    "\n",
    "Binning cohorts in the case of my dataset was a preliminary step. "
   ]
  },
  {
   "cell_type": "markdown",
   "id": "54e699eb-4874-4b27-abae-8c905dddc51d",
   "metadata": {},
   "source": [
    "# Event Study - Manual ATT"
   ]
  },
  {
   "cell_type": "code",
   "execution_count": 37,
   "id": "d75c4cd2-a080-4357-af28-3d3a674f0008",
   "metadata": {},
   "outputs": [],
   "source": [
    "# copy mstr df and create relative year column\n",
    "\n",
    "df_es = df_mstr.copy()\n",
    "\n",
    "# create a \"relative year\" column for observations and bin the tails\n",
    "\n",
    "df_es['rel_year'] = (df_es['Year'] - df_es['Treatment Year'])\n"
   ]
  },
  {
   "cell_type": "code",
   "execution_count": 38,
   "id": "42a314c7-72b0-4020-8cba-56c6e6fc6cf3",
   "metadata": {},
   "outputs": [
    {
     "data": {
      "text/plain": [
       "1960    62\n",
       "1961    62\n",
       "1962    62\n",
       "1963    62\n",
       "1964    62\n",
       "        ..\n",
       "2019    62\n",
       "2020    62\n",
       "2021    62\n",
       "2022    62\n",
       "2023    62\n",
       "Name: Year, Length: 64, dtype: int64"
      ]
     },
     "execution_count": 38,
     "metadata": {},
     "output_type": "execute_result"
    }
   ],
   "source": [
    "df_es['Year'].value_counts().sort_index()"
   ]
  },
  {
   "cell_type": "code",
   "execution_count": 39,
   "id": "2d5eb2ca-eef2-481e-a427-bea4f8cc1c00",
   "metadata": {},
   "outputs": [],
   "source": [
    "# plot ATT per e\n",
    "\n",
    "cell_dict = []\n",
    "countries = viable_countries_filtered.index\n",
    "\n",
    "for country in countries:\n",
    "    # treatment year\n",
    "    Gi = df_es.loc[df_es['Country']==country, 'Treatment Year'].iat[0]\n",
    "    \n",
    "    # e = -1 (baseline year)\n",
    "    t_0 = Gi - 1\n",
    "    \n",
    "    treated_t0_mask = ((df_es['Treatment']==1) & (df_es['Country']==country) & (df_es['Year']==t_0))\n",
    "        \n",
    "    treated_t0 = df_es.loc[treated_t0_mask, 'Gini_recon_hybrid'].iat[0]\n",
    "    \n",
    "    control_t0_mask = (\n",
    "            (df_es['Year']==t_0) &\n",
    "            ((df_es['Treatment']==0) | ((df_es['Treatment']==1) & (df_es['Treatment Year'] > t_0))) &\n",
    "            (df_es['Country']!= country) &\n",
    "            (df_es['Treatment Year']!= Gi)\n",
    "        )\n",
    "    \n",
    "    \n",
    "    s_t0 = df_es.loc[control_t0_mask, 'Gini_recon_hybrid']\n",
    "    control_t0 = s_t0.mean() if s_t0.notna().any() else np.nan\n",
    "        \n",
    "\n",
    "    # event time list\n",
    "    e_list = list(df_es.loc[df_es['Country']==country, 'rel_year'])\n",
    "\n",
    "    \n",
    "    for e in e_list:\n",
    "        # event time (calendar year at e)\n",
    "        t_i = df_es.loc[((df_es['Country']==country) & (df_es['rel_year']==e)), 'Year'].iat[0]\n",
    "\n",
    "        \n",
    "        # gini value at calendar year at e\n",
    "        treated_ti_mask = ((df_es['Treatment']==1) & (df_es['Country']==country) & (df_es['Year']==t_i))\n",
    "        \n",
    "        treated_ti = df_es.loc[treated_ti_mask, 'Gini_recon_hybrid'].iat[0]\n",
    "        \n",
    "        # calendar time mask\n",
    "        control_ti_mask = (\n",
    "            (df_es['Year'] == t_i) &\n",
    "            ((df_es['Treatment'] == 0) | ((df_es['Treatment'] == 1) & (df_es['Treatment Year'] > t_i))) &\n",
    "            (df_es['Country'] != country)  &\n",
    "            (df_es['Treatment Year'] != Gi)\n",
    "        )\n",
    "        \n",
    "            \n",
    "#         # purge control_ti of any years where mask is empty  \n",
    "        s_ti = df_es.loc[control_ti_mask, 'Gini_recon_hybrid']\n",
    "        control_ti = s_ti.mean() if s_ti.notna().any() else np.nan\n",
    "        \n",
    "        #print(e, control_ti)\n",
    "        \n",
    "        \n",
    "        # # store results\n",
    "        cell_dict.append({\n",
    "            'country': country,\n",
    "            'event_time_i': e,\n",
    "            'treatment_year': Gi,\n",
    "            'calendar_year(ti)': t_i,\n",
    "            'treated_ti': treated_ti,\n",
    "            'treated_t0': treated_t0,\n",
    "            'control_ti': control_ti,\n",
    "            'control_t0': control_t0\n",
    "        })\n"
   ]
  },
  {
   "cell_type": "code",
   "execution_count": 40,
   "id": "b44ea486-b8e9-4ea1-b69f-c9cb7585ec09",
   "metadata": {},
   "outputs": [
    {
     "data": {
      "text/html": [
       "<div>\n",
       "<style scoped>\n",
       "    .dataframe tbody tr th:only-of-type {\n",
       "        vertical-align: middle;\n",
       "    }\n",
       "\n",
       "    .dataframe tbody tr th {\n",
       "        vertical-align: top;\n",
       "    }\n",
       "\n",
       "    .dataframe thead th {\n",
       "        text-align: right;\n",
       "    }\n",
       "</style>\n",
       "<table border=\"1\" class=\"dataframe\">\n",
       "  <thead>\n",
       "    <tr style=\"text-align: right;\">\n",
       "      <th></th>\n",
       "      <th>country</th>\n",
       "      <th>event_time_i</th>\n",
       "      <th>treatment_year</th>\n",
       "      <th>calendar_year(ti)</th>\n",
       "      <th>treated_ti</th>\n",
       "      <th>treated_t0</th>\n",
       "      <th>control_ti</th>\n",
       "      <th>control_t0</th>\n",
       "    </tr>\n",
       "  </thead>\n",
       "  <tbody>\n",
       "    <tr>\n",
       "      <th>0</th>\n",
       "      <td>Argentina</td>\n",
       "      <td>-56.0</td>\n",
       "      <td>2016.0</td>\n",
       "      <td>1960</td>\n",
       "      <td>54.347031</td>\n",
       "      <td>55.388731</td>\n",
       "      <td>61.001315</td>\n",
       "      <td>64.008739</td>\n",
       "    </tr>\n",
       "    <tr>\n",
       "      <th>1</th>\n",
       "      <td>Argentina</td>\n",
       "      <td>-55.0</td>\n",
       "      <td>2016.0</td>\n",
       "      <td>1961</td>\n",
       "      <td>54.347031</td>\n",
       "      <td>55.388731</td>\n",
       "      <td>61.001315</td>\n",
       "      <td>64.008739</td>\n",
       "    </tr>\n",
       "    <tr>\n",
       "      <th>2</th>\n",
       "      <td>Argentina</td>\n",
       "      <td>-54.0</td>\n",
       "      <td>2016.0</td>\n",
       "      <td>1962</td>\n",
       "      <td>54.347031</td>\n",
       "      <td>55.388731</td>\n",
       "      <td>61.001315</td>\n",
       "      <td>64.008739</td>\n",
       "    </tr>\n",
       "    <tr>\n",
       "      <th>3</th>\n",
       "      <td>Argentina</td>\n",
       "      <td>-53.0</td>\n",
       "      <td>2016.0</td>\n",
       "      <td>1963</td>\n",
       "      <td>54.373400</td>\n",
       "      <td>55.388731</td>\n",
       "      <td>61.028109</td>\n",
       "      <td>64.008739</td>\n",
       "    </tr>\n",
       "    <tr>\n",
       "      <th>4</th>\n",
       "      <td>Argentina</td>\n",
       "      <td>-52.0</td>\n",
       "      <td>2016.0</td>\n",
       "      <td>1964</td>\n",
       "      <td>54.360914</td>\n",
       "      <td>55.388731</td>\n",
       "      <td>61.015423</td>\n",
       "      <td>64.008739</td>\n",
       "    </tr>\n",
       "    <tr>\n",
       "      <th>...</th>\n",
       "      <td>...</td>\n",
       "      <td>...</td>\n",
       "      <td>...</td>\n",
       "      <td>...</td>\n",
       "      <td>...</td>\n",
       "      <td>...</td>\n",
       "      <td>...</td>\n",
       "      <td>...</td>\n",
       "    </tr>\n",
       "    <tr>\n",
       "      <th>3963</th>\n",
       "      <td>Zimbabwe</td>\n",
       "      <td>32.0</td>\n",
       "      <td>1987.0</td>\n",
       "      <td>2019</td>\n",
       "      <td>49.700000</td>\n",
       "      <td>54.378446</td>\n",
       "      <td>64.010282</td>\n",
       "      <td>59.783476</td>\n",
       "    </tr>\n",
       "    <tr>\n",
       "      <th>3964</th>\n",
       "      <td>Zimbabwe</td>\n",
       "      <td>33.0</td>\n",
       "      <td>1987.0</td>\n",
       "      <td>2020</td>\n",
       "      <td>53.866062</td>\n",
       "      <td>54.378446</td>\n",
       "      <td>65.415366</td>\n",
       "      <td>59.783476</td>\n",
       "    </tr>\n",
       "    <tr>\n",
       "      <th>3965</th>\n",
       "      <td>Zimbabwe</td>\n",
       "      <td>34.0</td>\n",
       "      <td>1987.0</td>\n",
       "      <td>2021</td>\n",
       "      <td>54.280660</td>\n",
       "      <td>54.378446</td>\n",
       "      <td>NaN</td>\n",
       "      <td>59.783476</td>\n",
       "    </tr>\n",
       "    <tr>\n",
       "      <th>3966</th>\n",
       "      <td>Zimbabwe</td>\n",
       "      <td>35.0</td>\n",
       "      <td>1987.0</td>\n",
       "      <td>2022</td>\n",
       "      <td>54.079433</td>\n",
       "      <td>54.378446</td>\n",
       "      <td>NaN</td>\n",
       "      <td>59.783476</td>\n",
       "    </tr>\n",
       "    <tr>\n",
       "      <th>3967</th>\n",
       "      <td>Zimbabwe</td>\n",
       "      <td>36.0</td>\n",
       "      <td>1987.0</td>\n",
       "      <td>2023</td>\n",
       "      <td>54.152431</td>\n",
       "      <td>54.378446</td>\n",
       "      <td>NaN</td>\n",
       "      <td>59.783476</td>\n",
       "    </tr>\n",
       "  </tbody>\n",
       "</table>\n",
       "<p>3968 rows × 8 columns</p>\n",
       "</div>"
      ],
      "text/plain": [
       "        country  event_time_i  treatment_year  calendar_year(ti)  treated_ti  \\\n",
       "0     Argentina         -56.0          2016.0               1960   54.347031   \n",
       "1     Argentina         -55.0          2016.0               1961   54.347031   \n",
       "2     Argentina         -54.0          2016.0               1962   54.347031   \n",
       "3     Argentina         -53.0          2016.0               1963   54.373400   \n",
       "4     Argentina         -52.0          2016.0               1964   54.360914   \n",
       "...         ...           ...             ...                ...         ...   \n",
       "3963   Zimbabwe          32.0          1987.0               2019   49.700000   \n",
       "3964   Zimbabwe          33.0          1987.0               2020   53.866062   \n",
       "3965   Zimbabwe          34.0          1987.0               2021   54.280660   \n",
       "3966   Zimbabwe          35.0          1987.0               2022   54.079433   \n",
       "3967   Zimbabwe          36.0          1987.0               2023   54.152431   \n",
       "\n",
       "      treated_t0  control_ti  control_t0  \n",
       "0      55.388731   61.001315   64.008739  \n",
       "1      55.388731   61.001315   64.008739  \n",
       "2      55.388731   61.001315   64.008739  \n",
       "3      55.388731   61.028109   64.008739  \n",
       "4      55.388731   61.015423   64.008739  \n",
       "...          ...         ...         ...  \n",
       "3963   54.378446   64.010282   59.783476  \n",
       "3964   54.378446   65.415366   59.783476  \n",
       "3965   54.378446         NaN   59.783476  \n",
       "3966   54.378446         NaN   59.783476  \n",
       "3967   54.378446         NaN   59.783476  \n",
       "\n",
       "[3968 rows x 8 columns]"
      ]
     },
     "execution_count": 40,
     "metadata": {},
     "output_type": "execute_result"
    }
   ],
   "source": [
    "# save results in a dataframe\n",
    "\n",
    "cell_df = pd.DataFrame(cell_dict)\n",
    "\n",
    "cell_df"
   ]
  },
  {
   "cell_type": "code",
   "execution_count": 41,
   "id": "7faadabe-1393-4016-b4c4-45d18c34d066",
   "metadata": {},
   "outputs": [],
   "source": [
    "# create an ATT column in cell_df\n",
    "\n",
    "ATT = (cell_df['treated_ti'] - cell_df['treated_t0']) - (cell_df['control_ti'] - cell_df['control_t0'])\n",
    "\n",
    " \n",
    "cell_df['ATT'] = ATT\n",
    "\n",
    "# create a binned event time column\n",
    "\n",
    "cell_df['event_time_binned'] = cell_df['event_time_i'].clip(-5, 5)"
   ]
  },
  {
   "cell_type": "code",
   "execution_count": 42,
   "id": "1ab11ff3-a797-4bab-9fee-cb293b4b3a06",
   "metadata": {},
   "outputs": [
    {
     "data": {
      "text/html": [
       "<div>\n",
       "<style scoped>\n",
       "    .dataframe tbody tr th:only-of-type {\n",
       "        vertical-align: middle;\n",
       "    }\n",
       "\n",
       "    .dataframe tbody tr th {\n",
       "        vertical-align: top;\n",
       "    }\n",
       "\n",
       "    .dataframe thead th {\n",
       "        text-align: right;\n",
       "    }\n",
       "</style>\n",
       "<table border=\"1\" class=\"dataframe\">\n",
       "  <thead>\n",
       "    <tr style=\"text-align: right;\">\n",
       "      <th></th>\n",
       "      <th>event_time_binned</th>\n",
       "      <th>cell_mean</th>\n",
       "      <th>n_cells</th>\n",
       "    </tr>\n",
       "  </thead>\n",
       "  <tbody>\n",
       "    <tr>\n",
       "      <th>0</th>\n",
       "      <td>-5.0</td>\n",
       "      <td>0.581526</td>\n",
       "      <td>1867</td>\n",
       "    </tr>\n",
       "    <tr>\n",
       "      <th>1</th>\n",
       "      <td>-4.0</td>\n",
       "      <td>0.145959</td>\n",
       "      <td>62</td>\n",
       "    </tr>\n",
       "    <tr>\n",
       "      <th>2</th>\n",
       "      <td>-3.0</td>\n",
       "      <td>0.345137</td>\n",
       "      <td>62</td>\n",
       "    </tr>\n",
       "    <tr>\n",
       "      <th>3</th>\n",
       "      <td>-2.0</td>\n",
       "      <td>0.013533</td>\n",
       "      <td>62</td>\n",
       "    </tr>\n",
       "    <tr>\n",
       "      <th>4</th>\n",
       "      <td>-1.0</td>\n",
       "      <td>0.000000</td>\n",
       "      <td>62</td>\n",
       "    </tr>\n",
       "  </tbody>\n",
       "</table>\n",
       "</div>"
      ],
      "text/plain": [
       "   event_time_binned  cell_mean  n_cells\n",
       "0               -5.0   0.581526     1867\n",
       "1               -4.0   0.145959       62\n",
       "2               -3.0   0.345137       62\n",
       "3               -2.0   0.013533       62\n",
       "4               -1.0   0.000000       62"
      ]
     },
     "execution_count": 42,
     "metadata": {},
     "output_type": "execute_result"
    }
   ],
   "source": [
    "# average over e\n",
    "\n",
    "event_time_att = (\n",
    "    cell_df.groupby('event_time_binned', as_index=False)\n",
    "    .agg(\n",
    "        cell_mean=('ATT', 'mean'),\n",
    "        n_cells = ('ATT', 'size')\n",
    "    ).dropna()\n",
    ")\n",
    "    \n",
    "event_time_att.head()\n"
   ]
  },
  {
   "cell_type": "code",
   "execution_count": 43,
   "id": "3949db7a-5e9f-44bd-b090-269f7c4dcb4a",
   "metadata": {},
   "outputs": [
    {
     "data": {
      "text/html": [
       "<div>\n",
       "<style scoped>\n",
       "    .dataframe tbody tr th:only-of-type {\n",
       "        vertical-align: middle;\n",
       "    }\n",
       "\n",
       "    .dataframe tbody tr th {\n",
       "        vertical-align: top;\n",
       "    }\n",
       "\n",
       "    .dataframe thead th {\n",
       "        text-align: right;\n",
       "    }\n",
       "</style>\n",
       "<table border=\"1\" class=\"dataframe\">\n",
       "  <thead>\n",
       "    <tr style=\"text-align: right;\">\n",
       "      <th></th>\n",
       "      <th>country</th>\n",
       "      <th>event_time_i</th>\n",
       "      <th>treatment_year</th>\n",
       "      <th>calendar_year(ti)</th>\n",
       "      <th>treated_ti</th>\n",
       "      <th>treated_t0</th>\n",
       "      <th>control_ti</th>\n",
       "      <th>control_t0</th>\n",
       "      <th>ATT</th>\n",
       "      <th>event_time_binned</th>\n",
       "    </tr>\n",
       "  </thead>\n",
       "  <tbody>\n",
       "    <tr>\n",
       "      <th>0</th>\n",
       "      <td>Argentina</td>\n",
       "      <td>-56.0</td>\n",
       "      <td>2016.0</td>\n",
       "      <td>1960</td>\n",
       "      <td>54.347031</td>\n",
       "      <td>55.388731</td>\n",
       "      <td>61.001315</td>\n",
       "      <td>64.008739</td>\n",
       "      <td>1.965724</td>\n",
       "      <td>-5.0</td>\n",
       "    </tr>\n",
       "    <tr>\n",
       "      <th>1</th>\n",
       "      <td>Argentina</td>\n",
       "      <td>-55.0</td>\n",
       "      <td>2016.0</td>\n",
       "      <td>1961</td>\n",
       "      <td>54.347031</td>\n",
       "      <td>55.388731</td>\n",
       "      <td>61.001315</td>\n",
       "      <td>64.008739</td>\n",
       "      <td>1.965724</td>\n",
       "      <td>-5.0</td>\n",
       "    </tr>\n",
       "    <tr>\n",
       "      <th>2</th>\n",
       "      <td>Argentina</td>\n",
       "      <td>-54.0</td>\n",
       "      <td>2016.0</td>\n",
       "      <td>1962</td>\n",
       "      <td>54.347031</td>\n",
       "      <td>55.388731</td>\n",
       "      <td>61.001315</td>\n",
       "      <td>64.008739</td>\n",
       "      <td>1.965724</td>\n",
       "      <td>-5.0</td>\n",
       "    </tr>\n",
       "    <tr>\n",
       "      <th>3</th>\n",
       "      <td>Argentina</td>\n",
       "      <td>-53.0</td>\n",
       "      <td>2016.0</td>\n",
       "      <td>1963</td>\n",
       "      <td>54.373400</td>\n",
       "      <td>55.388731</td>\n",
       "      <td>61.028109</td>\n",
       "      <td>64.008739</td>\n",
       "      <td>1.965299</td>\n",
       "      <td>-5.0</td>\n",
       "    </tr>\n",
       "    <tr>\n",
       "      <th>4</th>\n",
       "      <td>Argentina</td>\n",
       "      <td>-52.0</td>\n",
       "      <td>2016.0</td>\n",
       "      <td>1964</td>\n",
       "      <td>54.360914</td>\n",
       "      <td>55.388731</td>\n",
       "      <td>61.015423</td>\n",
       "      <td>64.008739</td>\n",
       "      <td>1.965499</td>\n",
       "      <td>-5.0</td>\n",
       "    </tr>\n",
       "  </tbody>\n",
       "</table>\n",
       "</div>"
      ],
      "text/plain": [
       "     country  event_time_i  treatment_year  calendar_year(ti)  treated_ti  \\\n",
       "0  Argentina         -56.0          2016.0               1960   54.347031   \n",
       "1  Argentina         -55.0          2016.0               1961   54.347031   \n",
       "2  Argentina         -54.0          2016.0               1962   54.347031   \n",
       "3  Argentina         -53.0          2016.0               1963   54.373400   \n",
       "4  Argentina         -52.0          2016.0               1964   54.360914   \n",
       "\n",
       "   treated_t0  control_ti  control_t0       ATT  event_time_binned  \n",
       "0   55.388731   61.001315   64.008739  1.965724               -5.0  \n",
       "1   55.388731   61.001315   64.008739  1.965724               -5.0  \n",
       "2   55.388731   61.001315   64.008739  1.965724               -5.0  \n",
       "3   55.388731   61.028109   64.008739  1.965299               -5.0  \n",
       "4   55.388731   61.015423   64.008739  1.965499               -5.0  "
      ]
     },
     "execution_count": 43,
     "metadata": {},
     "output_type": "execute_result"
    }
   ],
   "source": [
    "cell_df.head()"
   ]
  },
  {
   "cell_type": "code",
   "execution_count": 44,
   "id": "de7550b5-1344-4e34-80d3-49f779369342",
   "metadata": {},
   "outputs": [
    {
     "data": {
      "text/html": [
       "<div>\n",
       "<style scoped>\n",
       "    .dataframe tbody tr th:only-of-type {\n",
       "        vertical-align: middle;\n",
       "    }\n",
       "\n",
       "    .dataframe tbody tr th {\n",
       "        vertical-align: top;\n",
       "    }\n",
       "\n",
       "    .dataframe thead th {\n",
       "        text-align: right;\n",
       "    }\n",
       "</style>\n",
       "<table border=\"1\" class=\"dataframe\">\n",
       "  <thead>\n",
       "    <tr style=\"text-align: right;\">\n",
       "      <th></th>\n",
       "      <th>e</th>\n",
       "      <th>ci_low</th>\n",
       "      <th>ci_high</th>\n",
       "    </tr>\n",
       "  </thead>\n",
       "  <tbody>\n",
       "    <tr>\n",
       "      <th>0</th>\n",
       "      <td>-5.0</td>\n",
       "      <td>-0.137520</td>\n",
       "      <td>1.253692</td>\n",
       "    </tr>\n",
       "    <tr>\n",
       "      <th>1</th>\n",
       "      <td>-4.0</td>\n",
       "      <td>-0.272967</td>\n",
       "      <td>0.574686</td>\n",
       "    </tr>\n",
       "    <tr>\n",
       "      <th>2</th>\n",
       "      <td>-3.0</td>\n",
       "      <td>-0.072923</td>\n",
       "      <td>0.838123</td>\n",
       "    </tr>\n",
       "    <tr>\n",
       "      <th>3</th>\n",
       "      <td>-2.0</td>\n",
       "      <td>-0.545506</td>\n",
       "      <td>0.541503</td>\n",
       "    </tr>\n",
       "    <tr>\n",
       "      <th>4</th>\n",
       "      <td>-1.0</td>\n",
       "      <td>0.000000</td>\n",
       "      <td>0.000000</td>\n",
       "    </tr>\n",
       "    <tr>\n",
       "      <th>5</th>\n",
       "      <td>0.0</td>\n",
       "      <td>-0.446196</td>\n",
       "      <td>0.501620</td>\n",
       "    </tr>\n",
       "    <tr>\n",
       "      <th>6</th>\n",
       "      <td>1.0</td>\n",
       "      <td>-0.182967</td>\n",
       "      <td>0.726865</td>\n",
       "    </tr>\n",
       "    <tr>\n",
       "      <th>7</th>\n",
       "      <td>2.0</td>\n",
       "      <td>-0.437020</td>\n",
       "      <td>0.658297</td>\n",
       "    </tr>\n",
       "    <tr>\n",
       "      <th>8</th>\n",
       "      <td>3.0</td>\n",
       "      <td>-0.454344</td>\n",
       "      <td>0.841674</td>\n",
       "    </tr>\n",
       "    <tr>\n",
       "      <th>9</th>\n",
       "      <td>4.0</td>\n",
       "      <td>-0.613348</td>\n",
       "      <td>0.621381</td>\n",
       "    </tr>\n",
       "    <tr>\n",
       "      <th>10</th>\n",
       "      <td>5.0</td>\n",
       "      <td>-0.956845</td>\n",
       "      <td>-0.201496</td>\n",
       "    </tr>\n",
       "  </tbody>\n",
       "</table>\n",
       "</div>"
      ],
      "text/plain": [
       "      e    ci_low   ci_high\n",
       "0  -5.0 -0.137520  1.253692\n",
       "1  -4.0 -0.272967  0.574686\n",
       "2  -3.0 -0.072923  0.838123\n",
       "3  -2.0 -0.545506  0.541503\n",
       "4  -1.0  0.000000  0.000000\n",
       "5   0.0 -0.446196  0.501620\n",
       "6   1.0 -0.182967  0.726865\n",
       "7   2.0 -0.437020  0.658297\n",
       "8   3.0 -0.454344  0.841674\n",
       "9   4.0 -0.613348  0.621381\n",
       "10  5.0 -0.956845 -0.201496"
      ]
     },
     "execution_count": 44,
     "metadata": {},
     "output_type": "execute_result"
    }
   ],
   "source": [
    "# bootstrap confidence intervals for plot\n",
    "\n",
    "n_draws = 500\n",
    "rng = np.random.default_rng(21) #in lieu of np.random.seed()\n",
    "\n",
    "countries = cell_df['country'].dropna().unique()\n",
    "\n",
    "draws = []\n",
    "\n",
    "\n",
    "for n in range(n_draws):\n",
    "    sample = rng.choice(countries, size=len(countries), replace=True)\n",
    "    w = pd.Series(sample).value_counts().rename('w')\n",
    "    \n",
    "    wsub = cell_df.merge(w, left_on='country', right_index=True, how='inner')\n",
    "    \n",
    "\n",
    "    wsub['w_ATT'] = wsub['ATT'] * wsub['w']\n",
    "    \n",
    "\n",
    "    \n",
    "    # 500 sets of ATT numbers, based on random country selections\n",
    "    # For each set, for each e, calculate weighted average ATT\n",
    "    bootstrap_att = (\n",
    "        wsub.dropna(subset=['ATT'])\n",
    "        .groupby('event_time_binned', as_index=False)\n",
    "        .agg(weighted_sum = ('w_ATT', 'sum'),\n",
    "            w_total = ('w', 'sum'))\n",
    "        .assign(wavg_ATT = lambda x: x['weighted_sum']/x['w_total'],\n",
    "               draw = n)\n",
    "    )\n",
    "    \n",
    "    # amass average ATT in lists per e\n",
    "    for e, att, draw in bootstrap_att[['event_time_binned', 'wavg_ATT', 'draw']].itertuples(index=False):\n",
    "        draws.append({\n",
    "            'e': e, 'weighted_avg_att': att, 'draw': draw\n",
    "        })\n",
    "    \n",
    "    draws_df = pd.DataFrame(draws) \n",
    "\n",
    "    ci = (\n",
    "        draws_df.groupby('e')['weighted_avg_att']\n",
    "        .quantile([0.025, 0.975])\n",
    "        .unstack()\n",
    "        .rename(columns={0.025:'ci_low', 0.975:'ci_high'})\n",
    "        .reset_index()\n",
    "    )\n",
    "    \n",
    "ci\n"
   ]
  },
  {
   "cell_type": "code",
   "execution_count": 45,
   "id": "9ecde90a-29b9-4607-8f00-909f48bbe848",
   "metadata": {},
   "outputs": [
    {
     "data": {
      "image/png": "[encoded data removed]",
      "text/plain": [
       "<Figure size 640x480 with 1 Axes>"
      ]
     },
     "metadata": {},
     "output_type": "display_data"
    }
   ],
   "source": [
    "# plot ATT in Event Time\n",
    "\n",
    "fig, ax = plt.subplots()\n",
    "\n",
    "x_axis = event_time_att['event_time_binned']\n",
    "y_axis = event_time_att['cell_mean']\n",
    "\n",
    "plt.axvline(-1, linestyle='--')\n",
    "plt.axhline(0, linestyle='--')\n",
    "\n",
    "plt.plot(x_axis, y_axis)\n",
    "\n",
    "#ci\n",
    "x_axis_b = ci['e']\n",
    "plt.fill_between(x_axis_b, ci['ci_low'], ci['ci_high'], alpha=0.2, label=\"95% CI\")\n",
    "\n",
    "plt.title(\"ATT in Event Time: No-Fault Divorce vs. Gini Coefficient\")\n",
    "plt.show()\n",
    "\n"
   ]
  },
  {
   "cell_type": "markdown",
   "id": "ff049dc5-1415-44e4-a49f-60fdbe38287c",
   "metadata": {},
   "source": [
    "# Event Study with Patsy Contrasts"
   ]
  },
  {
   "cell_type": "code",
   "execution_count": 42,
   "id": "3b6abc9e-668f-42b2-a296-8c95090ef48e",
   "metadata": {},
   "outputs": [],
   "source": [
    "# assign -1 value to NaN rows in rel_year\n",
    "# since -1 is the baseline\n",
    "df_es['rel_year_es'] = df_es['rel_year'].replace(np.NaN, -1)\n",
    "\n",
    "Y = \"Gini_recon_hybrid\"\n",
    "\n",
    "# use rel_year_es instead of OnTreat\n",
    "formula = f\"{Y} ~ C(rel_year_es, CTR(reference=-1)) + C(Country) + C(Year)\"\n",
    "\n",
    "results = smf.ols(formula=formula, data=df_es).fit(\n",
    "    cov_type = 'cluster',\n",
    "    cov_kwds = {\"groups\":df_es['Country']}\n",
    ")"
   ]
  },
  {
   "cell_type": "code",
   "execution_count": 43,
   "id": "90610491-12bc-4914-b809-01fa0f4b5d47",
   "metadata": {},
   "outputs": [
    {
     "data": {
      "image/png": "[encoded data removed]",
      "text/plain": [
       "<Figure size 640x480 with 1 Axes>"
      ]
     },
     "metadata": {},
     "output_type": "display_data"
    }
   ],
   "source": [
    "# event study plot\n",
    "\n",
    "coefs = results.params.filter(like='rel_year_es')\n",
    "ses = results.bse.filter(like='rel_year_es')\n",
    "\n",
    "coefs_names = [int(float(s.split(\"T.\")[1].rstrip(']'))) for s in coefs.index]\n",
    "\n",
    "event_df = pd.DataFrame({\n",
    "    'Relative Time': coefs_names,\n",
    "    'Coefficient':coefs.values,\n",
    "    'Standard Error':ses.values\n",
    "})\n",
    "\n",
    "event_df = event_df.sort_values(by='Relative Time', ascending=True)\n",
    "\n",
    "event_df\n",
    "\n",
    "# # plot the results\n",
    "\n",
    "fig, ax = plt.subplots()\n",
    "plt.axhline(0, linestyle='--')\n",
    "plt.axvline(0, linestyle=':')\n",
    "\n",
    "plt.errorbar(\n",
    "    x = event_df['Relative Time'], y = event_df['Coefficient'], yerr=1.96*event_df['Standard Error'],\n",
    "    fmt='o', capsize=3\n",
    ")\n",
    "plt.xlabel('Years Relative to Treatment')\n",
    "plt.ylabel('Effect')\n",
    "plt.title(\"Event Study\")\n",
    "plt.xticks(rotation=45)\n",
    "plt.tight_layout()\n",
    "plt.show()"
   ]
  },
  {
   "cell_type": "code",
   "execution_count": 50,
   "id": "2747d2b5-fec0-4b57-bf7a-3210882fc0bf",
   "metadata": {},
   "outputs": [],
   "source": [
    "# repeat with different bin mapping\n",
    "# bin mappings meant to improve thin k\n",
    "\n",
    "def bin_rel_year(rel_year):\n",
    "    if pd.isna(rel_year): return np.NaN\n",
    "    if rel_year <= -6: return \"pre_tail\"\n",
    "    elif -5 <= rel_year <= -3: return \"pre_3to5\"\n",
    "    elif rel_year == -2: return \"pre_2\"\n",
    "    elif rel_year == -1: return \"baseline\"\n",
    "    elif 0 <= rel_year <= 2: return \"post_0to2\"\n",
    "    elif 3 <= rel_year <=4: return \"post_3to4\"\n",
    "    elif 5 <= rel_year <=6: return \"post_5to6\"\n",
    "    else: return \"post_tail\""
   ]
  },
  {
   "cell_type": "code",
   "execution_count": 51,
   "id": "adbf2730-ba2c-4ec4-87a9-02ad4aa6c7f1",
   "metadata": {},
   "outputs": [],
   "source": [
    "# create a relative year binned column with bins\n",
    "\n",
    "df_es['rel_year_binned'] = df_es['rel_year'].map(bin_rel_year)"
   ]
  },
  {
   "cell_type": "code",
   "execution_count": 52,
   "id": "b389ebae-d355-44d8-b05d-39f2caf035ea",
   "metadata": {},
   "outputs": [],
   "source": [
    "# create a relative year binned event study column with NaN subsumed under baseline\n",
    "\n",
    "df_es['rel_year_bines'] = np.where(pd.isna(df_es['rel_year_binned']), 'baseline', df_es['rel_year_binned'])"
   ]
  },
  {
   "cell_type": "code",
   "execution_count": 53,
   "id": "d9e5738d-f463-4eaa-8e2b-17dd581c8173",
   "metadata": {},
   "outputs": [
    {
     "data": {
      "text/plain": [
       "baseline     246\n",
       "post_0to2     16\n",
       "post_3to4     10\n",
       "post_5to6     13\n",
       "post_tail    215\n",
       "pre_2          8\n",
       "pre_3to5      15\n",
       "pre_tail     106\n",
       "Name: rel_year_bines, dtype: int64"
      ]
     },
     "execution_count": 53,
     "metadata": {},
     "output_type": "execute_result"
    }
   ],
   "source": [
    "# validate bins\n",
    "df_es['rel_year_bines'].value_counts(dropna=False).sort_index()"
   ]
  },
  {
   "cell_type": "code",
   "execution_count": 60,
   "id": "4cd4895a-1c8c-4d99-bf63-6a3f3af131fb",
   "metadata": {},
   "outputs": [],
   "source": [
    "# try event study with modified bins\n",
    "\n",
    "Y = 'Gini_recon_hybrid'\n",
    "\n",
    "formula = f\"{Y} ~ C(rel_year_bines, CTR(reference='baseline')) + C(Country) + C(Year)\"\n",
    "\n",
    "results = (\n",
    "    smf.ols(formula=formula, data=df_es)\n",
    "    .fit(\n",
    "        cov_type='cluster',\n",
    "        cov_kwds={'groups':df_es['Country']}\n",
    "    )\n",
    ")"
   ]
  },
  {
   "cell_type": "code",
   "execution_count": 63,
   "id": "930e7d04-0852-41d0-aa40-4fabfbceacdf",
   "metadata": {},
   "outputs": [
    {
     "data": {
      "text/plain": [
       "C(rel_year_bines, CTR(reference='baseline'))[T.post_0to2]    0.441032\n",
       "C(rel_year_bines, CTR(reference='baseline'))[T.post_3to4]    0.562225\n",
       "C(rel_year_bines, CTR(reference='baseline'))[T.post_5to6]    0.264291\n",
       "C(rel_year_bines, CTR(reference='baseline'))[T.post_tail]    0.030002\n",
       "C(rel_year_bines, CTR(reference='baseline'))[T.pre_2]        0.708259\n",
       "C(rel_year_bines, CTR(reference='baseline'))[T.pre_3to5]     0.887089\n",
       "C(rel_year_bines, CTR(reference='baseline'))[T.pre_tail]     0.373083\n",
       "dtype: float64"
      ]
     },
     "execution_count": 63,
     "metadata": {},
     "output_type": "execute_result"
    }
   ],
   "source": [
    "#results.params.filter(like='rel_year_bines')\n",
    "results.pvalues.filter(like='rel_year_bines')"
   ]
  },
  {
   "cell_type": "markdown",
   "id": "5549802c-91ab-4e7d-a654-e7b12a72737b",
   "metadata": {},
   "source": [
    "# Event Study with Manual Dummies"
   ]
  },
  {
   "cell_type": "code",
   "execution_count": null,
   "id": "2dea3957-c438-49d0-baad-e4adcb3393b9",
   "metadata": {},
   "outputs": [],
   "source": []
  },
  {
   "cell_type": "code",
   "execution_count": null,
   "id": "d1fb19f2-c8a8-45dd-932b-32cdfa66c305",
   "metadata": {},
   "outputs": [],
   "source": []
  }
 ],
 "metadata": {
  "kernelspec": {
   "display_name": "Python 3 (ipykernel)",
   "language": "python",
   "name": "python3"
  },
  "language_info": {
   "codemirror_mode": {
    "name": "ipython",
    "version": 3
   },
   "file_extension": ".py",
   "mimetype": "text/x-python",
   "name": "python",
   "nbconvert_exporter": "python",
   "pygments_lexer": "ipython3",
   "version": "3.10.9"
  }
 },
 "nbformat": 4,
 "nbformat_minor": 5
}
